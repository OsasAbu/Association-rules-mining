{
 "cells": [
  {
   "cell_type": "code",
   "execution_count": 21,
   "id": "9f68e2e8",
   "metadata": {},
   "outputs": [
    {
     "name": "stdout",
     "output_type": "stream",
     "text": [
      "Requirement already satisfied: apyori in c:\\users\\osas\\anaconda3\\lib\\site-packages (1.1.2)\n"
     ]
    }
   ],
   "source": [
    "!pip install apyori"
   ]
  },
  {
   "cell_type": "code",
   "execution_count": 2,
   "id": "a3851ff9",
   "metadata": {},
   "outputs": [],
   "source": [
    "import matplotlib.pyplot as plt\n",
    "import pandas as pd\n",
    "import utils\n",
    "%matplotlib inline\n",
    "from apyori import apriori\n",
    "import seaborn as sns"
   ]
  },
  {
   "cell_type": "code",
   "execution_count": 3,
   "id": "b695c9ca",
   "metadata": {},
   "outputs": [],
   "source": [
    "data = pd.read_csv('groceries.csv')"
   ]
  },
  {
   "cell_type": "code",
   "execution_count": 4,
   "id": "d3e326ab",
   "metadata": {},
   "outputs": [
    {
     "data": {
      "text/html": [
       "<div>\n",
       "<style scoped>\n",
       "    .dataframe tbody tr th:only-of-type {\n",
       "        vertical-align: middle;\n",
       "    }\n",
       "\n",
       "    .dataframe tbody tr th {\n",
       "        vertical-align: top;\n",
       "    }\n",
       "\n",
       "    .dataframe thead th {\n",
       "        text-align: right;\n",
       "    }\n",
       "</style>\n",
       "<table border=\"1\" class=\"dataframe\">\n",
       "  <thead>\n",
       "    <tr style=\"text-align: right;\">\n",
       "      <th></th>\n",
       "      <th>PurchaseID</th>\n",
       "      <th>Date</th>\n",
       "      <th>Item</th>\n",
       "    </tr>\n",
       "  </thead>\n",
       "  <tbody>\n",
       "    <tr>\n",
       "      <th>0</th>\n",
       "      <td>1</td>\n",
       "      <td>1/1/2000</td>\n",
       "      <td>laundry detergent</td>\n",
       "    </tr>\n",
       "    <tr>\n",
       "      <th>1</th>\n",
       "      <td>1</td>\n",
       "      <td>1/1/2000</td>\n",
       "      <td>flour</td>\n",
       "    </tr>\n",
       "    <tr>\n",
       "      <th>2</th>\n",
       "      <td>1</td>\n",
       "      <td>1/1/2000</td>\n",
       "      <td>butter</td>\n",
       "    </tr>\n",
       "    <tr>\n",
       "      <th>3</th>\n",
       "      <td>1</td>\n",
       "      <td>1/1/2000</td>\n",
       "      <td>soap</td>\n",
       "    </tr>\n",
       "    <tr>\n",
       "      <th>4</th>\n",
       "      <td>1</td>\n",
       "      <td>1/1/2000</td>\n",
       "      <td>aluminum foil</td>\n",
       "    </tr>\n",
       "  </tbody>\n",
       "</table>\n",
       "</div>"
      ],
      "text/plain": [
       "   PurchaseID      Date               Item\n",
       "0           1  1/1/2000  laundry detergent\n",
       "1           1  1/1/2000              flour\n",
       "2           1  1/1/2000             butter\n",
       "3           1  1/1/2000               soap\n",
       "4           1  1/1/2000      aluminum foil"
      ]
     },
     "execution_count": 4,
     "metadata": {},
     "output_type": "execute_result"
    }
   ],
   "source": [
    "data.head()"
   ]
  },
  {
   "cell_type": "code",
   "execution_count": 5,
   "id": "434e40d2",
   "metadata": {},
   "outputs": [
    {
     "data": {
      "text/html": [
       "<div>\n",
       "<style scoped>\n",
       "    .dataframe tbody tr th:only-of-type {\n",
       "        vertical-align: middle;\n",
       "    }\n",
       "\n",
       "    .dataframe tbody tr th {\n",
       "        vertical-align: top;\n",
       "    }\n",
       "\n",
       "    .dataframe thead th {\n",
       "        text-align: right;\n",
       "    }\n",
       "</style>\n",
       "<table border=\"1\" class=\"dataframe\">\n",
       "  <thead>\n",
       "    <tr style=\"text-align: right;\">\n",
       "      <th></th>\n",
       "      <th>PurchaseID</th>\n",
       "      <th>Date</th>\n",
       "      <th>Item</th>\n",
       "    </tr>\n",
       "  </thead>\n",
       "  <tbody>\n",
       "    <tr>\n",
       "      <th>29058</th>\n",
       "      <td>1499</td>\n",
       "      <td>2/26/2002</td>\n",
       "      <td>vegetables</td>\n",
       "    </tr>\n",
       "    <tr>\n",
       "      <th>29059</th>\n",
       "      <td>1499</td>\n",
       "      <td>2/26/2002</td>\n",
       "      <td>vegetables</td>\n",
       "    </tr>\n",
       "    <tr>\n",
       "      <th>29060</th>\n",
       "      <td>1499</td>\n",
       "      <td>2/26/2002</td>\n",
       "      <td>soda</td>\n",
       "    </tr>\n",
       "    <tr>\n",
       "      <th>29061</th>\n",
       "      <td>1499</td>\n",
       "      <td>2/26/2002</td>\n",
       "      <td>shampoo</td>\n",
       "    </tr>\n",
       "    <tr>\n",
       "      <th>29062</th>\n",
       "      <td>1499</td>\n",
       "      <td>2/26/2002</td>\n",
       "      <td>laundry detergent</td>\n",
       "    </tr>\n",
       "  </tbody>\n",
       "</table>\n",
       "</div>"
      ],
      "text/plain": [
       "       PurchaseID       Date               Item\n",
       "29058        1499  2/26/2002         vegetables\n",
       "29059        1499  2/26/2002         vegetables\n",
       "29060        1499  2/26/2002               soda\n",
       "29061        1499  2/26/2002            shampoo\n",
       "29062        1499  2/26/2002  laundry detergent"
      ]
     },
     "execution_count": 5,
     "metadata": {},
     "output_type": "execute_result"
    }
   ],
   "source": [
    "data.tail()"
   ]
  },
  {
   "cell_type": "code",
   "execution_count": 6,
   "id": "35980d2c",
   "metadata": {},
   "outputs": [
    {
     "data": {
      "text/html": [
       "<div>\n",
       "<style scoped>\n",
       "    .dataframe tbody tr th:only-of-type {\n",
       "        vertical-align: middle;\n",
       "    }\n",
       "\n",
       "    .dataframe tbody tr th {\n",
       "        vertical-align: top;\n",
       "    }\n",
       "\n",
       "    .dataframe thead th {\n",
       "        text-align: right;\n",
       "    }\n",
       "</style>\n",
       "<table border=\"1\" class=\"dataframe\">\n",
       "  <thead>\n",
       "    <tr style=\"text-align: right;\">\n",
       "      <th></th>\n",
       "      <th>PurchaseID</th>\n",
       "    </tr>\n",
       "  </thead>\n",
       "  <tbody>\n",
       "    <tr>\n",
       "      <th>count</th>\n",
       "      <td>29063.000000</td>\n",
       "    </tr>\n",
       "    <tr>\n",
       "      <th>mean</th>\n",
       "      <td>753.755978</td>\n",
       "    </tr>\n",
       "    <tr>\n",
       "      <th>std</th>\n",
       "      <td>431.334603</td>\n",
       "    </tr>\n",
       "    <tr>\n",
       "      <th>min</th>\n",
       "      <td>1.000000</td>\n",
       "    </tr>\n",
       "    <tr>\n",
       "      <th>25%</th>\n",
       "      <td>387.000000</td>\n",
       "    </tr>\n",
       "    <tr>\n",
       "      <th>50%</th>\n",
       "      <td>761.000000</td>\n",
       "    </tr>\n",
       "    <tr>\n",
       "      <th>75%</th>\n",
       "      <td>1127.000000</td>\n",
       "    </tr>\n",
       "    <tr>\n",
       "      <th>max</th>\n",
       "      <td>1499.000000</td>\n",
       "    </tr>\n",
       "  </tbody>\n",
       "</table>\n",
       "</div>"
      ],
      "text/plain": [
       "         PurchaseID\n",
       "count  29063.000000\n",
       "mean     753.755978\n",
       "std      431.334603\n",
       "min        1.000000\n",
       "25%      387.000000\n",
       "50%      761.000000\n",
       "75%     1127.000000\n",
       "max     1499.000000"
      ]
     },
     "execution_count": 6,
     "metadata": {},
     "output_type": "execute_result"
    }
   ],
   "source": [
    "data.describe()"
   ]
  },
  {
   "cell_type": "code",
   "execution_count": 7,
   "id": "45347174",
   "metadata": {},
   "outputs": [
    {
     "data": {
      "text/plain": [
       "PurchaseID    False\n",
       "Date          False\n",
       "Item          False\n",
       "dtype: bool"
      ]
     },
     "execution_count": 7,
     "metadata": {},
     "output_type": "execute_result"
    }
   ],
   "source": [
    "#Cheking for Null Values\n",
    "data.isnull().any()"
   ]
  },
  {
   "cell_type": "code",
   "execution_count": 8,
   "id": "ce09af9a",
   "metadata": {},
   "outputs": [
    {
     "name": "stdout",
     "output_type": "stream",
     "text": [
      "Total products: 38\n"
     ]
    }
   ],
   "source": [
    "#Total Products\n",
    "Total_products = data['Item'].unique()\n",
    "print(\"Total products: {}\".format(len(Total_products)))"
   ]
  },
  {
   "cell_type": "code",
   "execution_count": 9,
   "id": "5c999314",
   "metadata": {
    "scrolled": false
   },
   "outputs": [
    {
     "data": {
      "text/plain": [
       "<BarContainer object of 5 artists>"
      ]
     },
     "execution_count": 9,
     "metadata": {},
     "output_type": "execute_result"
    },
    {
     "data": {
      "image/png": "[encoded data removed]",
      "text/plain": [
       "<Figure size 432x288 with 1 Axes>"
      ]
     },
     "metadata": {
      "needs_background": "light"
     },
     "output_type": "display_data"
    }
   ],
   "source": [
    "#plot and explore dataset#\n",
    "fig=plt.figure()\n",
    "x= data['Item'].value_counts()\n",
    "x=x.sort_values(ascending = False)\n",
    "x = x[:5]\n",
    "\n",
    "plt.bar(x.index, height = x.values)"
   ]
  },
  {
   "cell_type": "code",
   "execution_count": 10,
   "id": "d348b083",
   "metadata": {},
   "outputs": [
    {
     "data": {
      "text/html": [
       "<div>\n",
       "<style scoped>\n",
       "    .dataframe tbody tr th:only-of-type {\n",
       "        vertical-align: middle;\n",
       "    }\n",
       "\n",
       "    .dataframe tbody tr th {\n",
       "        vertical-align: top;\n",
       "    }\n",
       "\n",
       "    .dataframe thead th {\n",
       "        text-align: right;\n",
       "    }\n",
       "</style>\n",
       "<table border=\"1\" class=\"dataframe\">\n",
       "  <thead>\n",
       "    <tr style=\"text-align: right;\">\n",
       "      <th></th>\n",
       "      <th>PurchaseID</th>\n",
       "      <th>Date</th>\n",
       "      <th>all- purpose</th>\n",
       "      <th>aluminum foil</th>\n",
       "      <th>bagels</th>\n",
       "      <th>beef</th>\n",
       "      <th>butter</th>\n",
       "      <th>cereals</th>\n",
       "      <th>cheeses</th>\n",
       "      <th>coffee/tea</th>\n",
       "      <th>...</th>\n",
       "      <th>shampoo</th>\n",
       "      <th>soap</th>\n",
       "      <th>soda</th>\n",
       "      <th>spaghetti sauce</th>\n",
       "      <th>sugar</th>\n",
       "      <th>toilet paper</th>\n",
       "      <th>tortillas</th>\n",
       "      <th>vegetables</th>\n",
       "      <th>waffles</th>\n",
       "      <th>yogurt</th>\n",
       "    </tr>\n",
       "  </thead>\n",
       "  <tbody>\n",
       "    <tr>\n",
       "      <th>0</th>\n",
       "      <td>1</td>\n",
       "      <td>1/1/2000</td>\n",
       "      <td>0</td>\n",
       "      <td>0</td>\n",
       "      <td>0</td>\n",
       "      <td>0</td>\n",
       "      <td>0</td>\n",
       "      <td>0</td>\n",
       "      <td>0</td>\n",
       "      <td>0</td>\n",
       "      <td>...</td>\n",
       "      <td>0</td>\n",
       "      <td>0</td>\n",
       "      <td>0</td>\n",
       "      <td>0</td>\n",
       "      <td>0</td>\n",
       "      <td>0</td>\n",
       "      <td>0</td>\n",
       "      <td>0</td>\n",
       "      <td>0</td>\n",
       "      <td>0</td>\n",
       "    </tr>\n",
       "    <tr>\n",
       "      <th>1</th>\n",
       "      <td>1</td>\n",
       "      <td>1/1/2000</td>\n",
       "      <td>0</td>\n",
       "      <td>0</td>\n",
       "      <td>0</td>\n",
       "      <td>0</td>\n",
       "      <td>0</td>\n",
       "      <td>0</td>\n",
       "      <td>0</td>\n",
       "      <td>0</td>\n",
       "      <td>...</td>\n",
       "      <td>0</td>\n",
       "      <td>0</td>\n",
       "      <td>0</td>\n",
       "      <td>0</td>\n",
       "      <td>0</td>\n",
       "      <td>0</td>\n",
       "      <td>0</td>\n",
       "      <td>0</td>\n",
       "      <td>0</td>\n",
       "      <td>0</td>\n",
       "    </tr>\n",
       "    <tr>\n",
       "      <th>2</th>\n",
       "      <td>1</td>\n",
       "      <td>1/1/2000</td>\n",
       "      <td>0</td>\n",
       "      <td>0</td>\n",
       "      <td>0</td>\n",
       "      <td>0</td>\n",
       "      <td>1</td>\n",
       "      <td>0</td>\n",
       "      <td>0</td>\n",
       "      <td>0</td>\n",
       "      <td>...</td>\n",
       "      <td>0</td>\n",
       "      <td>0</td>\n",
       "      <td>0</td>\n",
       "      <td>0</td>\n",
       "      <td>0</td>\n",
       "      <td>0</td>\n",
       "      <td>0</td>\n",
       "      <td>0</td>\n",
       "      <td>0</td>\n",
       "      <td>0</td>\n",
       "    </tr>\n",
       "    <tr>\n",
       "      <th>3</th>\n",
       "      <td>1</td>\n",
       "      <td>1/1/2000</td>\n",
       "      <td>0</td>\n",
       "      <td>0</td>\n",
       "      <td>0</td>\n",
       "      <td>0</td>\n",
       "      <td>0</td>\n",
       "      <td>0</td>\n",
       "      <td>0</td>\n",
       "      <td>0</td>\n",
       "      <td>...</td>\n",
       "      <td>0</td>\n",
       "      <td>1</td>\n",
       "      <td>0</td>\n",
       "      <td>0</td>\n",
       "      <td>0</td>\n",
       "      <td>0</td>\n",
       "      <td>0</td>\n",
       "      <td>0</td>\n",
       "      <td>0</td>\n",
       "      <td>0</td>\n",
       "    </tr>\n",
       "    <tr>\n",
       "      <th>4</th>\n",
       "      <td>1</td>\n",
       "      <td>1/1/2000</td>\n",
       "      <td>0</td>\n",
       "      <td>1</td>\n",
       "      <td>0</td>\n",
       "      <td>0</td>\n",
       "      <td>0</td>\n",
       "      <td>0</td>\n",
       "      <td>0</td>\n",
       "      <td>0</td>\n",
       "      <td>...</td>\n",
       "      <td>0</td>\n",
       "      <td>0</td>\n",
       "      <td>0</td>\n",
       "      <td>0</td>\n",
       "      <td>0</td>\n",
       "      <td>0</td>\n",
       "      <td>0</td>\n",
       "      <td>0</td>\n",
       "      <td>0</td>\n",
       "      <td>0</td>\n",
       "    </tr>\n",
       "  </tbody>\n",
       "</table>\n",
       "<p>5 rows × 40 columns</p>\n",
       "</div>"
      ],
      "text/plain": [
       "   PurchaseID      Date  all- purpose  aluminum foil  bagels  beef  butter  \\\n",
       "0           1  1/1/2000             0              0       0     0       0   \n",
       "1           1  1/1/2000             0              0       0     0       0   \n",
       "2           1  1/1/2000             0              0       0     0       1   \n",
       "3           1  1/1/2000             0              0       0     0       0   \n",
       "4           1  1/1/2000             0              1       0     0       0   \n",
       "\n",
       "   cereals  cheeses  coffee/tea  ...  shampoo  soap  soda  spaghetti sauce  \\\n",
       "0        0        0           0  ...        0     0     0                0   \n",
       "1        0        0           0  ...        0     0     0                0   \n",
       "2        0        0           0  ...        0     0     0                0   \n",
       "3        0        0           0  ...        0     1     0                0   \n",
       "4        0        0           0  ...        0     0     0                0   \n",
       "\n",
       "   sugar  toilet paper  tortillas  vegetables  waffles  yogurt  \n",
       "0      0             0          0           0        0       0  \n",
       "1      0             0          0           0        0       0  \n",
       "2      0             0          0           0        0       0  \n",
       "3      0             0          0           0        0       0  \n",
       "4      0             0          0           0        0       0  \n",
       "\n",
       "[5 rows x 40 columns]"
      ]
     },
     "execution_count": 10,
     "metadata": {},
     "output_type": "execute_result"
    }
   ],
   "source": [
    "#One-hot representation of items bought\n",
    "one_hot = pd.get_dummies(data['Item'])\n",
    "data.drop('Item',inplace=True,axis=1)\n",
    "data_enc = data.join(one_hot)\n",
    "data_enc.head()"
   ]
  },
  {
   "cell_type": "code",
   "execution_count": 11,
   "id": "ac55f090",
   "metadata": {
    "scrolled": true
   },
   "outputs": [
    {
     "data": {
      "text/html": [
       "<div>\n",
       "<style scoped>\n",
       "    .dataframe tbody tr th:only-of-type {\n",
       "        vertical-align: middle;\n",
       "    }\n",
       "\n",
       "    .dataframe tbody tr th {\n",
       "        vertical-align: top;\n",
       "    }\n",
       "\n",
       "    .dataframe thead th {\n",
       "        text-align: right;\n",
       "    }\n",
       "</style>\n",
       "<table border=\"1\" class=\"dataframe\">\n",
       "  <thead>\n",
       "    <tr style=\"text-align: right;\">\n",
       "      <th></th>\n",
       "      <th>laundry detergent</th>\n",
       "      <th>flour</th>\n",
       "      <th>butter</th>\n",
       "      <th>soap</th>\n",
       "      <th>aluminum foil</th>\n",
       "      <th>yogurt</th>\n",
       "      <th>beef</th>\n",
       "      <th>mixes</th>\n",
       "      <th>shampoo</th>\n",
       "      <th>lunch meat</th>\n",
       "      <th>...</th>\n",
       "      <th>spaghetti sauce</th>\n",
       "      <th>eggs</th>\n",
       "      <th>sandwich loaves</th>\n",
       "      <th>ketchup</th>\n",
       "      <th>juice</th>\n",
       "      <th>paper towels</th>\n",
       "      <th>pasta</th>\n",
       "      <th>coffee/tea</th>\n",
       "      <th>fruits</th>\n",
       "      <th>sugar</th>\n",
       "    </tr>\n",
       "  </thead>\n",
       "  <tbody>\n",
       "    <tr>\n",
       "      <th>0</th>\n",
       "      <td>1</td>\n",
       "      <td>1</td>\n",
       "      <td>1</td>\n",
       "      <td>1</td>\n",
       "      <td>1</td>\n",
       "      <td>1</td>\n",
       "      <td>1</td>\n",
       "      <td>1</td>\n",
       "      <td>1</td>\n",
       "      <td>1</td>\n",
       "      <td>...</td>\n",
       "      <td>0</td>\n",
       "      <td>0</td>\n",
       "      <td>0</td>\n",
       "      <td>0</td>\n",
       "      <td>0</td>\n",
       "      <td>0</td>\n",
       "      <td>0</td>\n",
       "      <td>0</td>\n",
       "      <td>0</td>\n",
       "      <td>0</td>\n",
       "    </tr>\n",
       "    <tr>\n",
       "      <th>1</th>\n",
       "      <td>1</td>\n",
       "      <td>0</td>\n",
       "      <td>0</td>\n",
       "      <td>0</td>\n",
       "      <td>1</td>\n",
       "      <td>1</td>\n",
       "      <td>0</td>\n",
       "      <td>2</td>\n",
       "      <td>2</td>\n",
       "      <td>0</td>\n",
       "      <td>...</td>\n",
       "      <td>0</td>\n",
       "      <td>0</td>\n",
       "      <td>0</td>\n",
       "      <td>0</td>\n",
       "      <td>0</td>\n",
       "      <td>0</td>\n",
       "      <td>0</td>\n",
       "      <td>0</td>\n",
       "      <td>0</td>\n",
       "      <td>0</td>\n",
       "    </tr>\n",
       "    <tr>\n",
       "      <th>2</th>\n",
       "      <td>1</td>\n",
       "      <td>0</td>\n",
       "      <td>0</td>\n",
       "      <td>2</td>\n",
       "      <td>0</td>\n",
       "      <td>0</td>\n",
       "      <td>0</td>\n",
       "      <td>0</td>\n",
       "      <td>1</td>\n",
       "      <td>1</td>\n",
       "      <td>...</td>\n",
       "      <td>3</td>\n",
       "      <td>1</td>\n",
       "      <td>1</td>\n",
       "      <td>2</td>\n",
       "      <td>0</td>\n",
       "      <td>0</td>\n",
       "      <td>0</td>\n",
       "      <td>0</td>\n",
       "      <td>0</td>\n",
       "      <td>0</td>\n",
       "    </tr>\n",
       "    <tr>\n",
       "      <th>3</th>\n",
       "      <td>0</td>\n",
       "      <td>0</td>\n",
       "      <td>0</td>\n",
       "      <td>0</td>\n",
       "      <td>0</td>\n",
       "      <td>0</td>\n",
       "      <td>0</td>\n",
       "      <td>0</td>\n",
       "      <td>0</td>\n",
       "      <td>1</td>\n",
       "      <td>...</td>\n",
       "      <td>0</td>\n",
       "      <td>0</td>\n",
       "      <td>0</td>\n",
       "      <td>0</td>\n",
       "      <td>1</td>\n",
       "      <td>0</td>\n",
       "      <td>0</td>\n",
       "      <td>0</td>\n",
       "      <td>0</td>\n",
       "      <td>0</td>\n",
       "    </tr>\n",
       "    <tr>\n",
       "      <th>4</th>\n",
       "      <td>0</td>\n",
       "      <td>1</td>\n",
       "      <td>0</td>\n",
       "      <td>0</td>\n",
       "      <td>0</td>\n",
       "      <td>1</td>\n",
       "      <td>0</td>\n",
       "      <td>1</td>\n",
       "      <td>0</td>\n",
       "      <td>0</td>\n",
       "      <td>...</td>\n",
       "      <td>1</td>\n",
       "      <td>1</td>\n",
       "      <td>1</td>\n",
       "      <td>0</td>\n",
       "      <td>0</td>\n",
       "      <td>1</td>\n",
       "      <td>1</td>\n",
       "      <td>0</td>\n",
       "      <td>0</td>\n",
       "      <td>0</td>\n",
       "    </tr>\n",
       "  </tbody>\n",
       "</table>\n",
       "<p>5 rows × 38 columns</p>\n",
       "</div>"
      ],
      "text/plain": [
       "   laundry detergent  flour  butter  soap  aluminum foil  yogurt  beef  mixes  \\\n",
       "0                  1      1       1     1              1       1     1      1   \n",
       "1                  1      0       0     0              1       1     0      2   \n",
       "2                  1      0       0     2              0       0     0      0   \n",
       "3                  0      0       0     0              0       0     0      0   \n",
       "4                  0      1       0     0              0       1     0      1   \n",
       "\n",
       "   shampoo  lunch meat  ...  spaghetti sauce  eggs  sandwich loaves  ketchup  \\\n",
       "0        1           1  ...                0     0                0        0   \n",
       "1        2           0  ...                0     0                0        0   \n",
       "2        1           1  ...                3     1                1        2   \n",
       "3        0           1  ...                0     0                0        0   \n",
       "4        0           0  ...                1     1                1        0   \n",
       "\n",
       "   juice  paper towels  pasta  coffee/tea  fruits  sugar  \n",
       "0      0             0      0           0       0      0  \n",
       "1      0             0      0           0       0      0  \n",
       "2      0             0      0           0       0      0  \n",
       "3      1             0      0           0       0      0  \n",
       "4      0             1      1           0       0      0  \n",
       "\n",
       "[5 rows x 38 columns]"
      ]
     },
     "execution_count": 11,
     "metadata": {},
     "output_type": "execute_result"
    }
   ],
   "source": [
    "grouped = data_enc.groupby([\"PurchaseID\",\"Date\"])[Total_products[:]].apply(sum)\n",
    "grouped = grouped.reset_index()[Total_products]\n",
    "grouped.head()"
   ]
  },
  {
   "cell_type": "code",
   "execution_count": 12,
   "id": "0d9a543c",
   "metadata": {},
   "outputs": [
    {
     "data": {
      "text/html": [
       "<div>\n",
       "<style scoped>\n",
       "    .dataframe tbody tr th:only-of-type {\n",
       "        vertical-align: middle;\n",
       "    }\n",
       "\n",
       "    .dataframe tbody tr th {\n",
       "        vertical-align: top;\n",
       "    }\n",
       "\n",
       "    .dataframe thead th {\n",
       "        text-align: right;\n",
       "    }\n",
       "</style>\n",
       "<table border=\"1\" class=\"dataframe\">\n",
       "  <thead>\n",
       "    <tr style=\"text-align: right;\">\n",
       "      <th></th>\n",
       "      <th>laundry detergent</th>\n",
       "      <th>flour</th>\n",
       "      <th>butter</th>\n",
       "      <th>soap</th>\n",
       "      <th>aluminum foil</th>\n",
       "      <th>yogurt</th>\n",
       "      <th>beef</th>\n",
       "      <th>mixes</th>\n",
       "      <th>shampoo</th>\n",
       "      <th>lunch meat</th>\n",
       "      <th>...</th>\n",
       "      <th>spaghetti sauce</th>\n",
       "      <th>eggs</th>\n",
       "      <th>sandwich loaves</th>\n",
       "      <th>ketchup</th>\n",
       "      <th>juice</th>\n",
       "      <th>paper towels</th>\n",
       "      <th>pasta</th>\n",
       "      <th>coffee/tea</th>\n",
       "      <th>fruits</th>\n",
       "      <th>sugar</th>\n",
       "    </tr>\n",
       "  </thead>\n",
       "  <tbody>\n",
       "    <tr>\n",
       "      <th>0</th>\n",
       "      <td>laundry detergent</td>\n",
       "      <td>flour</td>\n",
       "      <td>butter</td>\n",
       "      <td>soap</td>\n",
       "      <td>aluminum foil</td>\n",
       "      <td>yogurt</td>\n",
       "      <td>beef</td>\n",
       "      <td>mixes</td>\n",
       "      <td>shampoo</td>\n",
       "      <td>lunch meat</td>\n",
       "      <td>...</td>\n",
       "      <td>0</td>\n",
       "      <td>0</td>\n",
       "      <td>0</td>\n",
       "      <td>0</td>\n",
       "      <td>0</td>\n",
       "      <td>0</td>\n",
       "      <td>0</td>\n",
       "      <td>0</td>\n",
       "      <td>0</td>\n",
       "      <td>0</td>\n",
       "    </tr>\n",
       "    <tr>\n",
       "      <th>1</th>\n",
       "      <td>laundry detergent</td>\n",
       "      <td>0</td>\n",
       "      <td>0</td>\n",
       "      <td>0</td>\n",
       "      <td>aluminum foil</td>\n",
       "      <td>yogurt</td>\n",
       "      <td>0</td>\n",
       "      <td>mixes</td>\n",
       "      <td>shampoo</td>\n",
       "      <td>0</td>\n",
       "      <td>...</td>\n",
       "      <td>0</td>\n",
       "      <td>0</td>\n",
       "      <td>0</td>\n",
       "      <td>0</td>\n",
       "      <td>0</td>\n",
       "      <td>0</td>\n",
       "      <td>0</td>\n",
       "      <td>0</td>\n",
       "      <td>0</td>\n",
       "      <td>0</td>\n",
       "    </tr>\n",
       "    <tr>\n",
       "      <th>2</th>\n",
       "      <td>laundry detergent</td>\n",
       "      <td>0</td>\n",
       "      <td>0</td>\n",
       "      <td>soap</td>\n",
       "      <td>0</td>\n",
       "      <td>0</td>\n",
       "      <td>0</td>\n",
       "      <td>0</td>\n",
       "      <td>shampoo</td>\n",
       "      <td>lunch meat</td>\n",
       "      <td>...</td>\n",
       "      <td>spaghetti sauce</td>\n",
       "      <td>eggs</td>\n",
       "      <td>sandwich loaves</td>\n",
       "      <td>ketchup</td>\n",
       "      <td>0</td>\n",
       "      <td>0</td>\n",
       "      <td>0</td>\n",
       "      <td>0</td>\n",
       "      <td>0</td>\n",
       "      <td>0</td>\n",
       "    </tr>\n",
       "    <tr>\n",
       "      <th>3</th>\n",
       "      <td>0</td>\n",
       "      <td>0</td>\n",
       "      <td>0</td>\n",
       "      <td>0</td>\n",
       "      <td>0</td>\n",
       "      <td>0</td>\n",
       "      <td>0</td>\n",
       "      <td>0</td>\n",
       "      <td>0</td>\n",
       "      <td>lunch meat</td>\n",
       "      <td>...</td>\n",
       "      <td>0</td>\n",
       "      <td>0</td>\n",
       "      <td>0</td>\n",
       "      <td>0</td>\n",
       "      <td>juice</td>\n",
       "      <td>0</td>\n",
       "      <td>0</td>\n",
       "      <td>0</td>\n",
       "      <td>0</td>\n",
       "      <td>0</td>\n",
       "    </tr>\n",
       "    <tr>\n",
       "      <th>4</th>\n",
       "      <td>0</td>\n",
       "      <td>flour</td>\n",
       "      <td>0</td>\n",
       "      <td>0</td>\n",
       "      <td>0</td>\n",
       "      <td>yogurt</td>\n",
       "      <td>0</td>\n",
       "      <td>mixes</td>\n",
       "      <td>0</td>\n",
       "      <td>0</td>\n",
       "      <td>...</td>\n",
       "      <td>spaghetti sauce</td>\n",
       "      <td>eggs</td>\n",
       "      <td>sandwich loaves</td>\n",
       "      <td>0</td>\n",
       "      <td>0</td>\n",
       "      <td>paper towels</td>\n",
       "      <td>pasta</td>\n",
       "      <td>0</td>\n",
       "      <td>0</td>\n",
       "      <td>0</td>\n",
       "    </tr>\n",
       "  </tbody>\n",
       "</table>\n",
       "<p>5 rows × 38 columns</p>\n",
       "</div>"
      ],
      "text/plain": [
       "   laundry detergent  flour  butter  soap  aluminum foil  yogurt  beef  mixes  \\\n",
       "0  laundry detergent  flour  butter  soap  aluminum foil  yogurt  beef  mixes   \n",
       "1  laundry detergent      0       0     0  aluminum foil  yogurt     0  mixes   \n",
       "2  laundry detergent      0       0  soap              0       0     0      0   \n",
       "3                  0      0       0     0              0       0     0      0   \n",
       "4                  0  flour       0     0              0  yogurt     0  mixes   \n",
       "\n",
       "   shampoo  lunch meat  ...  spaghetti sauce  eggs  sandwich loaves  ketchup  \\\n",
       "0  shampoo  lunch meat  ...                0     0                0        0   \n",
       "1  shampoo           0  ...                0     0                0        0   \n",
       "2  shampoo  lunch meat  ...  spaghetti sauce  eggs  sandwich loaves  ketchup   \n",
       "3        0  lunch meat  ...                0     0                0        0   \n",
       "4        0           0  ...  spaghetti sauce  eggs  sandwich loaves        0   \n",
       "\n",
       "   juice  paper towels  pasta coffee/tea fruits sugar  \n",
       "0      0             0      0          0      0     0  \n",
       "1      0             0      0          0      0     0  \n",
       "2      0             0      0          0      0     0  \n",
       "3  juice             0      0          0      0     0  \n",
       "4      0  paper towels  pasta          0      0     0  \n",
       "\n",
       "[5 rows x 38 columns]"
      ]
     },
     "execution_count": 12,
     "metadata": {},
     "output_type": "execute_result"
    }
   ],
   "source": [
    "#Replace the non-zero items with product names\n",
    "def get_product_names(x):\n",
    "    for product in Total_products:\n",
    "        if x[product] > 0:\n",
    "            x[product] = product\n",
    "    return x\n",
    "\n",
    "grouped = grouped.apply(get_product_names, axis=1)\n",
    "grouped.head()"
   ]
  },
  {
   "cell_type": "code",
   "execution_count": 13,
   "id": "ad20b6e4",
   "metadata": {},
   "outputs": [],
   "source": [
    "#Removing the items not purchased \n",
    "x = grouped.values\n",
    "x= [num[~(num == 0)].tolist() for num in x if num[num !=0].tolist()]\n",
    "data1 = x"
   ]
  },
  {
   "cell_type": "code",
   "execution_count": 14,
   "id": "dc8eb190",
   "metadata": {},
   "outputs": [
    {
     "name": "stdout",
     "output_type": "stream",
     "text": [
      "Total transactions: 1499\n"
     ]
    }
   ],
   "source": [
    "print(\"Total transactions: {}\".format(len(grouped)))"
   ]
  },
  {
   "cell_type": "code",
   "execution_count": 15,
   "id": "b8667c1c",
   "metadata": {},
   "outputs": [
    {
     "data": {
      "text/plain": [
       "[['laundry detergent',\n",
       "  'flour',\n",
       "  'butter',\n",
       "  'soap',\n",
       "  'aluminum foil',\n",
       "  'yogurt',\n",
       "  'beef',\n",
       "  'mixes',\n",
       "  'shampoo',\n",
       "  'lunch meat',\n",
       "  'dinner rolls',\n",
       "  'pork',\n",
       "  'all- purpose',\n",
       "  'sandwich bags',\n",
       "  'ice cream',\n",
       "  'vegetables',\n",
       "  'soda'],\n",
       " ['laundry detergent',\n",
       "  'aluminum foil',\n",
       "  'yogurt',\n",
       "  'mixes',\n",
       "  'shampoo',\n",
       "  'sandwich bags',\n",
       "  'vegetables',\n",
       "  'hand soap',\n",
       "  'waffles',\n",
       "  'cheeses',\n",
       "  'toilet paper',\n",
       "  'milk',\n",
       "  'dishwashing liquid/detergent',\n",
       "  'cereals',\n",
       "  'individual meals',\n",
       "  'tortillas'],\n",
       " ['laundry detergent',\n",
       "  'soap',\n",
       "  'shampoo',\n",
       "  'lunch meat',\n",
       "  'dinner rolls',\n",
       "  'pork',\n",
       "  'ice cream',\n",
       "  'vegetables',\n",
       "  'soda',\n",
       "  'hand soap',\n",
       "  'cheeses',\n",
       "  'toilet paper',\n",
       "  'milk',\n",
       "  'cereals',\n",
       "  'poultry',\n",
       "  'bagels',\n",
       "  'spaghetti sauce',\n",
       "  'eggs',\n",
       "  'sandwich loaves',\n",
       "  'ketchup'],\n",
       " ['lunch meat', 'all- purpose', 'soda', 'toilet paper', 'cereals', 'juice'],\n",
       " ['flour',\n",
       "  'yogurt',\n",
       "  'mixes',\n",
       "  'dinner rolls',\n",
       "  'pork',\n",
       "  'all- purpose',\n",
       "  'vegetables',\n",
       "  'soda',\n",
       "  'hand soap',\n",
       "  'waffles',\n",
       "  'toilet paper',\n",
       "  'milk',\n",
       "  'individual meals',\n",
       "  'tortillas',\n",
       "  'poultry',\n",
       "  'spaghetti sauce',\n",
       "  'eggs',\n",
       "  'sandwich loaves',\n",
       "  'paper towels',\n",
       "  'pasta']]"
      ]
     },
     "execution_count": 15,
     "metadata": {},
     "output_type": "execute_result"
    }
   ],
   "source": [
    "data1[0:5]"
   ]
  },
  {
   "cell_type": "code",
   "execution_count": 25,
   "id": "51d7c18c",
   "metadata": {},
   "outputs": [
    {
     "data": {
      "text/plain": [
       "[RelationRecord(items=frozenset({'all- purpose', 'vegetables'}), support=0.28552368245497, ordered_statistics=[OrderedStatistic(items_base=frozenset({'all- purpose'}), items_add=frozenset({'vegetables'}), confidence=0.7711711711711713, lift=1.0615110978747344)]),\n",
       " RelationRecord(items=frozenset({'aluminum foil', 'vegetables'}), support=0.3095396931287525, ordered_statistics=[OrderedStatistic(items_base=frozenset({'aluminum foil'}), items_add=frozenset({'vegetables'}), confidence=0.8013816925734024, lift=1.1030956447819378)]),\n",
       " RelationRecord(items=frozenset({'vegetables', 'bagels'}), support=0.2941961307538359, ordered_statistics=[OrderedStatistic(items_base=frozenset({'bagels'}), items_add=frozenset({'vegetables'}), confidence=0.7696335078534031, lift=1.05939451631979)]),\n",
       " RelationRecord(items=frozenset({'beef', 'vegetables'}), support=0.2808539026017345, ordered_statistics=[OrderedStatistic(items_base=frozenset({'beef'}), items_add=frozenset({'vegetables'}), confidence=0.7613019891500904, lift=1.0479262458548995)]),\n",
       " RelationRecord(items=frozenset({'butter', 'vegetables'}), support=0.28552368245497, ordered_statistics=[OrderedStatistic(items_base=frozenset({'butter'}), items_add=frozenset({'vegetables'}), confidence=0.7656529516994633, lift=1.0539153118434301)]),\n",
       " RelationRecord(items=frozenset({'vegetables', 'cereals'}), support=0.29553035356904606, ordered_statistics=[OrderedStatistic(items_base=frozenset({'cereals'}), items_add=frozenset({'vegetables'}), confidence=0.7717770034843207, lift=1.0623450213250658)]),\n",
       " RelationRecord(items=frozenset({'cheeses', 'vegetables'}), support=0.3035356904603069, ordered_statistics=[OrderedStatistic(items_base=frozenset({'cheeses'}), items_add=frozenset({'vegetables'}), confidence=0.7844827586206897, lift=1.079834394097717)]),\n",
       " RelationRecord(items=frozenset({'dinner rolls', 'vegetables'}), support=0.2941961307538359, ordered_statistics=[OrderedStatistic(items_base=frozenset({'dinner rolls'}), items_add=frozenset({'vegetables'}), confidence=0.7777777777777777, lift=1.0706050403020098)]),\n",
       " RelationRecord(items=frozenset({'vegetables', 'dishwashing liquid/detergent'}), support=0.304869913275517, ordered_statistics=[OrderedStatistic(items_base=frozenset({'dishwashing liquid/detergent'}), items_add=frozenset({'vegetables'}), confidence=0.7811965811965812, lift=1.0753109965231176)]),\n",
       " RelationRecord(items=frozenset({'eggs', 'vegetables'}), support=0.31087391594396263, ordered_statistics=[OrderedStatistic(items_base=frozenset({'eggs'}), items_add=frozenset({'vegetables'}), confidence=0.8146853146853146, lift=1.1214079767798775)]),\n",
       " RelationRecord(items=frozenset({'flour', 'vegetables'}), support=0.27084723148765844, ordered_statistics=[OrderedStatistic(items_base=frozenset({'flour'}), items_add=frozenset({'vegetables'}), confidence=0.7660377358490567, lift=1.0544449642219798)]),\n",
       " RelationRecord(items=frozenset({'fruits', 'vegetables'}), support=0.28418945963975983, ordered_statistics=[OrderedStatistic(items_base=frozenset({'fruits'}), items_add=frozenset({'vegetables'}), confidence=0.7717391304347826, lift=1.0622928893679882)]),\n",
       " RelationRecord(items=frozenset({'hand soap', 'vegetables'}), support=0.266844563042028, ordered_statistics=[OrderedStatistic(items_base=frozenset({'hand soap'}), items_add=frozenset({'vegetables'}), confidence=0.7648183556405354, lift=1.05276649688261)]),\n",
       " RelationRecord(items=frozenset({'ice cream', 'vegetables'}), support=0.3008672448298866, ordered_statistics=[OrderedStatistic(items_base=frozenset({'ice cream'}), items_add=frozenset({'vegetables'}), confidence=0.7722602739726028, lift=1.0630102393801024)]),\n",
       " RelationRecord(items=frozenset({'individual meals', 'vegetables'}), support=0.28418945963975983, ordered_statistics=[OrderedStatistic(items_base=frozenset({'individual meals'}), items_add=frozenset({'vegetables'}), confidence=0.7593582887700535, lift=1.0452507574529937)]),\n",
       " RelationRecord(items=frozenset({'juice', 'vegetables'}), support=0.28819212808539024, ordered_statistics=[OrderedStatistic(items_base=frozenset({'juice'}), items_add=frozenset({'vegetables'}), confidence=0.7783783783783783, lift=1.0714317623408531)]),\n",
       " RelationRecord(items=frozenset({'ketchup', 'vegetables'}), support=0.27284856571047367, ordered_statistics=[OrderedStatistic(items_base=frozenset({'ketchup'}), items_add=frozenset({'vegetables'}), confidence=0.7673545966228893, lift=1.0562576127986327)]),\n",
       " RelationRecord(items=frozenset({'laundry detergent', 'vegetables'}), support=0.30420280186791193, ordered_statistics=[OrderedStatistic(items_base=frozenset({'laundry detergent'}), items_add=frozenset({'vegetables'}), confidence=0.8099467140319715, lift=1.1148853299668735)]),\n",
       " RelationRecord(items=frozenset({'lunch meat', 'vegetables'}), support=0.30153435623749164, ordered_statistics=[OrderedStatistic(items_base=frozenset({'lunch meat'}), items_add=frozenset({'vegetables'}), confidence=0.7766323024054982, lift=1.0690283023928757)]),\n",
       " RelationRecord(items=frozenset({'milk', 'vegetables'}), support=0.29486324216144094, ordered_statistics=[OrderedStatistic(items_base=frozenset({'milk'}), items_add=frozenset({'vegetables'}), confidence=0.7795414462081128, lift=1.073032716130359)]),\n",
       " RelationRecord(items=frozenset({'vegetables', 'mixes'}), support=0.2875250166777852, ordered_statistics=[OrderedStatistic(items_base=frozenset({'mixes'}), items_add=frozenset({'vegetables'}), confidence=0.7669039145907472, lift=1.0556372524991093)]),\n",
       " RelationRecord(items=frozenset({'vegetables', 'paper towels'}), support=0.28552368245497, ordered_statistics=[OrderedStatistic(items_base=frozenset({'paper towels'}), items_add=frozenset({'vegetables'}), confidence=0.781021897810219, lift=1.075070546205251)]),\n",
       " RelationRecord(items=frozenset({'vegetables', 'pasta'}), support=0.2875250166777852, ordered_statistics=[OrderedStatistic(items_base=frozenset({'pasta'}), items_add=frozenset({'vegetables'}), confidence=0.7628318584070797, lift=1.0500320989460168)]),\n",
       " RelationRecord(items=frozenset({'vegetables', 'poultry'}), support=0.3202134756504336, ordered_statistics=[OrderedStatistic(items_base=frozenset({'poultry'}), items_add=frozenset({'vegetables'}), confidence=0.7830342577487764, lift=1.07784054395355)]),\n",
       " RelationRecord(items=frozenset({'sandwich bags', 'vegetables'}), support=0.2848565710473649, ordered_statistics=[OrderedStatistic(items_base=frozenset({'sandwich bags'}), items_add=frozenset({'vegetables'}), confidence=0.7907407407407407, lift=1.0884484576403768)]),\n",
       " RelationRecord(items=frozenset({'vegetables', 'sandwich loaves'}), support=0.2835223482321548, ordered_statistics=[OrderedStatistic(items_base=frozenset({'sandwich loaves'}), items_add=frozenset({'vegetables'}), confidence=0.794392523364486, lift=1.0934751079186082)]),\n",
       " RelationRecord(items=frozenset({'shampoo', 'vegetables'}), support=0.2768512341561041, ordered_statistics=[OrderedStatistic(items_base=frozenset({'shampoo'}), items_add=frozenset({'vegetables'}), confidence=0.7728119180633147, lift=1.0637695731652055)]),\n",
       " RelationRecord(items=frozenset({'vegetables', 'soap'}), support=0.2901934623082055, ordered_statistics=[OrderedStatistic(items_base=frozenset({'soap'}), items_add=frozenset({'vegetables'}), confidence=0.7685512367491166, lift=1.0579047785922182)]),\n",
       " RelationRecord(items=frozenset({'vegetables', 'soda'}), support=0.29953302201467646, ordered_statistics=[OrderedStatistic(items_base=frozenset({'soda'}), items_add=frozenset({'vegetables'}), confidence=0.7754749568221071, lift=1.0674352252307975)]),\n",
       " RelationRecord(items=frozenset({'vegetables', 'spaghetti sauce'}), support=0.2875250166777852, ordered_statistics=[OrderedStatistic(items_base=frozenset({'spaghetti sauce'}), items_add=frozenset({'vegetables'}), confidence=0.7822141560798548, lift=1.0767116804074401)]),\n",
       " RelationRecord(items=frozenset({'sugar', 'vegetables'}), support=0.2935290193462308, ordered_statistics=[OrderedStatistic(items_base=frozenset({'sugar'}), items_add=frozenset({'vegetables'}), confidence=0.8, lift=1.1011937557392102)]),\n",
       " RelationRecord(items=frozenset({'toilet paper', 'vegetables'}), support=0.28552368245497, ordered_statistics=[OrderedStatistic(items_base=frozenset({'toilet paper'}), items_add=frozenset({'vegetables'}), confidence=0.7602131438721137, lift=1.0464274588285567)]),\n",
       " RelationRecord(items=frozenset({'tortillas', 'vegetables'}), support=0.2755170113408939, ordered_statistics=[OrderedStatistic(items_base=frozenset({'tortillas'}), items_add=frozenset({'vegetables'}), confidence=0.7577981651376147, lift=1.0431032594502152)]),\n",
       " RelationRecord(items=frozenset({'waffles', 'vegetables'}), support=0.304869913275517, ordered_statistics=[OrderedStatistic(items_base=frozenset({'waffles'}), items_add=frozenset({'vegetables'}), confidence=0.7785349233390119, lift=1.0716472452572807)]),\n",
       " RelationRecord(items=frozenset({'yogurt', 'vegetables'}), support=0.30820547031354234, ordered_statistics=[OrderedStatistic(items_base=frozenset({'yogurt'}), items_add=frozenset({'vegetables'}), confidence=0.8148148148148147, lift=1.1215862326973436)])]"
      ]
     },
     "execution_count": 25,
     "metadata": {},
     "output_type": "execute_result"
    }
   ],
   "source": [
    "#Applying Association Rules\n",
    "rules = apriori(data1,min_support=0.2,min_confidence=0.75,min_length =2,min_lift=1,target=\"rules\")\n",
    "association_results = list(rules)\n",
    "association_results"
   ]
  },
  {
   "cell_type": "code",
   "execution_count": 26,
   "id": "0a800a74",
   "metadata": {},
   "outputs": [],
   "source": [
    "df = pd.DataFrame(columns=('Items','Antecedent','Consequent','Support','Confidence','Lift'))\n",
    "\n",
    "Support =[]\n",
    "Confidence = []\n",
    "Lift = []\n",
    "Items = []\n",
    "Antecedent = []\n",
    "Consequent=[]\n",
    "\n",
    "for RelationRecord in association_results:\n",
    "    for ordered_stat in RelationRecord.ordered_statistics:\n",
    "        Support.append(RelationRecord.support)\n",
    "        Items.append(RelationRecord.items)\n",
    "        Antecedent.append(ordered_stat.items_base)\n",
    "        Consequent.append(ordered_stat.items_add)\n",
    "        Confidence.append(ordered_stat.confidence)\n",
    "        Lift.append(ordered_stat.lift)\n",
    "\n",
    "df['Items'] = list(map(set, Items))                                   \n",
    "df['Antecedent'] = list(map(set, Antecedent))\n",
    "df['Consequent'] = list(map(set, Consequent))\n",
    "df['Support'] = Support\n",
    "df['Confidence'] = Confidence\n",
    "df['Lift']= Lift"
   ]
  },
  {
   "cell_type": "code",
   "execution_count": 27,
   "id": "1f8fe7b6",
   "metadata": {},
   "outputs": [
    {
     "data": {
      "text/html": [
       "<div>\n",
       "<style scoped>\n",
       "    .dataframe tbody tr th:only-of-type {\n",
       "        vertical-align: middle;\n",
       "    }\n",
       "\n",
       "    .dataframe tbody tr th {\n",
       "        vertical-align: top;\n",
       "    }\n",
       "\n",
       "    .dataframe thead th {\n",
       "        text-align: right;\n",
       "    }\n",
       "</style>\n",
       "<table border=\"1\" class=\"dataframe\">\n",
       "  <thead>\n",
       "    <tr style=\"text-align: right;\">\n",
       "      <th></th>\n",
       "      <th>Items</th>\n",
       "      <th>Antecedent</th>\n",
       "      <th>Consequent</th>\n",
       "      <th>Support</th>\n",
       "      <th>Confidence</th>\n",
       "      <th>Lift</th>\n",
       "    </tr>\n",
       "  </thead>\n",
       "  <tbody>\n",
       "    <tr>\n",
       "      <th>34</th>\n",
       "      <td>{yogurt, vegetables}</td>\n",
       "      <td>{yogurt}</td>\n",
       "      <td>{vegetables}</td>\n",
       "      <td>0.308205</td>\n",
       "      <td>0.814815</td>\n",
       "      <td>1.121586</td>\n",
       "    </tr>\n",
       "    <tr>\n",
       "      <th>9</th>\n",
       "      <td>{eggs, vegetables}</td>\n",
       "      <td>{eggs}</td>\n",
       "      <td>{vegetables}</td>\n",
       "      <td>0.310874</td>\n",
       "      <td>0.814685</td>\n",
       "      <td>1.121408</td>\n",
       "    </tr>\n",
       "    <tr>\n",
       "      <th>17</th>\n",
       "      <td>{laundry detergent, vegetables}</td>\n",
       "      <td>{laundry detergent}</td>\n",
       "      <td>{vegetables}</td>\n",
       "      <td>0.304203</td>\n",
       "      <td>0.809947</td>\n",
       "      <td>1.114885</td>\n",
       "    </tr>\n",
       "    <tr>\n",
       "      <th>1</th>\n",
       "      <td>{aluminum foil, vegetables}</td>\n",
       "      <td>{aluminum foil}</td>\n",
       "      <td>{vegetables}</td>\n",
       "      <td>0.309540</td>\n",
       "      <td>0.801382</td>\n",
       "      <td>1.103096</td>\n",
       "    </tr>\n",
       "    <tr>\n",
       "      <th>30</th>\n",
       "      <td>{sugar, vegetables}</td>\n",
       "      <td>{sugar}</td>\n",
       "      <td>{vegetables}</td>\n",
       "      <td>0.293529</td>\n",
       "      <td>0.800000</td>\n",
       "      <td>1.101194</td>\n",
       "    </tr>\n",
       "    <tr>\n",
       "      <th>25</th>\n",
       "      <td>{vegetables, sandwich loaves}</td>\n",
       "      <td>{sandwich loaves}</td>\n",
       "      <td>{vegetables}</td>\n",
       "      <td>0.283522</td>\n",
       "      <td>0.794393</td>\n",
       "      <td>1.093475</td>\n",
       "    </tr>\n",
       "    <tr>\n",
       "      <th>24</th>\n",
       "      <td>{sandwich bags, vegetables}</td>\n",
       "      <td>{sandwich bags}</td>\n",
       "      <td>{vegetables}</td>\n",
       "      <td>0.284857</td>\n",
       "      <td>0.790741</td>\n",
       "      <td>1.088448</td>\n",
       "    </tr>\n",
       "    <tr>\n",
       "      <th>6</th>\n",
       "      <td>{cheeses, vegetables}</td>\n",
       "      <td>{cheeses}</td>\n",
       "      <td>{vegetables}</td>\n",
       "      <td>0.303536</td>\n",
       "      <td>0.784483</td>\n",
       "      <td>1.079834</td>\n",
       "    </tr>\n",
       "    <tr>\n",
       "      <th>23</th>\n",
       "      <td>{vegetables, poultry}</td>\n",
       "      <td>{poultry}</td>\n",
       "      <td>{vegetables}</td>\n",
       "      <td>0.320213</td>\n",
       "      <td>0.783034</td>\n",
       "      <td>1.077841</td>\n",
       "    </tr>\n",
       "    <tr>\n",
       "      <th>29</th>\n",
       "      <td>{vegetables, spaghetti sauce}</td>\n",
       "      <td>{spaghetti sauce}</td>\n",
       "      <td>{vegetables}</td>\n",
       "      <td>0.287525</td>\n",
       "      <td>0.782214</td>\n",
       "      <td>1.076712</td>\n",
       "    </tr>\n",
       "    <tr>\n",
       "      <th>8</th>\n",
       "      <td>{vegetables, dishwashing liquid/detergent}</td>\n",
       "      <td>{dishwashing liquid/detergent}</td>\n",
       "      <td>{vegetables}</td>\n",
       "      <td>0.304870</td>\n",
       "      <td>0.781197</td>\n",
       "      <td>1.075311</td>\n",
       "    </tr>\n",
       "    <tr>\n",
       "      <th>21</th>\n",
       "      <td>{vegetables, paper towels}</td>\n",
       "      <td>{paper towels}</td>\n",
       "      <td>{vegetables}</td>\n",
       "      <td>0.285524</td>\n",
       "      <td>0.781022</td>\n",
       "      <td>1.075071</td>\n",
       "    </tr>\n",
       "    <tr>\n",
       "      <th>19</th>\n",
       "      <td>{milk, vegetables}</td>\n",
       "      <td>{milk}</td>\n",
       "      <td>{vegetables}</td>\n",
       "      <td>0.294863</td>\n",
       "      <td>0.779541</td>\n",
       "      <td>1.073033</td>\n",
       "    </tr>\n",
       "    <tr>\n",
       "      <th>33</th>\n",
       "      <td>{waffles, vegetables}</td>\n",
       "      <td>{waffles}</td>\n",
       "      <td>{vegetables}</td>\n",
       "      <td>0.304870</td>\n",
       "      <td>0.778535</td>\n",
       "      <td>1.071647</td>\n",
       "    </tr>\n",
       "    <tr>\n",
       "      <th>15</th>\n",
       "      <td>{juice, vegetables}</td>\n",
       "      <td>{juice}</td>\n",
       "      <td>{vegetables}</td>\n",
       "      <td>0.288192</td>\n",
       "      <td>0.778378</td>\n",
       "      <td>1.071432</td>\n",
       "    </tr>\n",
       "    <tr>\n",
       "      <th>7</th>\n",
       "      <td>{dinner rolls, vegetables}</td>\n",
       "      <td>{dinner rolls}</td>\n",
       "      <td>{vegetables}</td>\n",
       "      <td>0.294196</td>\n",
       "      <td>0.777778</td>\n",
       "      <td>1.070605</td>\n",
       "    </tr>\n",
       "    <tr>\n",
       "      <th>18</th>\n",
       "      <td>{lunch meat, vegetables}</td>\n",
       "      <td>{lunch meat}</td>\n",
       "      <td>{vegetables}</td>\n",
       "      <td>0.301534</td>\n",
       "      <td>0.776632</td>\n",
       "      <td>1.069028</td>\n",
       "    </tr>\n",
       "    <tr>\n",
       "      <th>28</th>\n",
       "      <td>{vegetables, soda}</td>\n",
       "      <td>{soda}</td>\n",
       "      <td>{vegetables}</td>\n",
       "      <td>0.299533</td>\n",
       "      <td>0.775475</td>\n",
       "      <td>1.067435</td>\n",
       "    </tr>\n",
       "    <tr>\n",
       "      <th>26</th>\n",
       "      <td>{shampoo, vegetables}</td>\n",
       "      <td>{shampoo}</td>\n",
       "      <td>{vegetables}</td>\n",
       "      <td>0.276851</td>\n",
       "      <td>0.772812</td>\n",
       "      <td>1.063770</td>\n",
       "    </tr>\n",
       "    <tr>\n",
       "      <th>13</th>\n",
       "      <td>{ice cream, vegetables}</td>\n",
       "      <td>{ice cream}</td>\n",
       "      <td>{vegetables}</td>\n",
       "      <td>0.300867</td>\n",
       "      <td>0.772260</td>\n",
       "      <td>1.063010</td>\n",
       "    </tr>\n",
       "    <tr>\n",
       "      <th>5</th>\n",
       "      <td>{vegetables, cereals}</td>\n",
       "      <td>{cereals}</td>\n",
       "      <td>{vegetables}</td>\n",
       "      <td>0.295530</td>\n",
       "      <td>0.771777</td>\n",
       "      <td>1.062345</td>\n",
       "    </tr>\n",
       "    <tr>\n",
       "      <th>11</th>\n",
       "      <td>{fruits, vegetables}</td>\n",
       "      <td>{fruits}</td>\n",
       "      <td>{vegetables}</td>\n",
       "      <td>0.284189</td>\n",
       "      <td>0.771739</td>\n",
       "      <td>1.062293</td>\n",
       "    </tr>\n",
       "    <tr>\n",
       "      <th>0</th>\n",
       "      <td>{all- purpose, vegetables}</td>\n",
       "      <td>{all- purpose}</td>\n",
       "      <td>{vegetables}</td>\n",
       "      <td>0.285524</td>\n",
       "      <td>0.771171</td>\n",
       "      <td>1.061511</td>\n",
       "    </tr>\n",
       "    <tr>\n",
       "      <th>2</th>\n",
       "      <td>{vegetables, bagels}</td>\n",
       "      <td>{bagels}</td>\n",
       "      <td>{vegetables}</td>\n",
       "      <td>0.294196</td>\n",
       "      <td>0.769634</td>\n",
       "      <td>1.059395</td>\n",
       "    </tr>\n",
       "    <tr>\n",
       "      <th>27</th>\n",
       "      <td>{vegetables, soap}</td>\n",
       "      <td>{soap}</td>\n",
       "      <td>{vegetables}</td>\n",
       "      <td>0.290193</td>\n",
       "      <td>0.768551</td>\n",
       "      <td>1.057905</td>\n",
       "    </tr>\n",
       "    <tr>\n",
       "      <th>16</th>\n",
       "      <td>{ketchup, vegetables}</td>\n",
       "      <td>{ketchup}</td>\n",
       "      <td>{vegetables}</td>\n",
       "      <td>0.272849</td>\n",
       "      <td>0.767355</td>\n",
       "      <td>1.056258</td>\n",
       "    </tr>\n",
       "    <tr>\n",
       "      <th>20</th>\n",
       "      <td>{vegetables, mixes}</td>\n",
       "      <td>{mixes}</td>\n",
       "      <td>{vegetables}</td>\n",
       "      <td>0.287525</td>\n",
       "      <td>0.766904</td>\n",
       "      <td>1.055637</td>\n",
       "    </tr>\n",
       "    <tr>\n",
       "      <th>10</th>\n",
       "      <td>{flour, vegetables}</td>\n",
       "      <td>{flour}</td>\n",
       "      <td>{vegetables}</td>\n",
       "      <td>0.270847</td>\n",
       "      <td>0.766038</td>\n",
       "      <td>1.054445</td>\n",
       "    </tr>\n",
       "    <tr>\n",
       "      <th>4</th>\n",
       "      <td>{butter, vegetables}</td>\n",
       "      <td>{butter}</td>\n",
       "      <td>{vegetables}</td>\n",
       "      <td>0.285524</td>\n",
       "      <td>0.765653</td>\n",
       "      <td>1.053915</td>\n",
       "    </tr>\n",
       "    <tr>\n",
       "      <th>12</th>\n",
       "      <td>{hand soap, vegetables}</td>\n",
       "      <td>{hand soap}</td>\n",
       "      <td>{vegetables}</td>\n",
       "      <td>0.266845</td>\n",
       "      <td>0.764818</td>\n",
       "      <td>1.052766</td>\n",
       "    </tr>\n",
       "    <tr>\n",
       "      <th>22</th>\n",
       "      <td>{vegetables, pasta}</td>\n",
       "      <td>{pasta}</td>\n",
       "      <td>{vegetables}</td>\n",
       "      <td>0.287525</td>\n",
       "      <td>0.762832</td>\n",
       "      <td>1.050032</td>\n",
       "    </tr>\n",
       "    <tr>\n",
       "      <th>3</th>\n",
       "      <td>{beef, vegetables}</td>\n",
       "      <td>{beef}</td>\n",
       "      <td>{vegetables}</td>\n",
       "      <td>0.280854</td>\n",
       "      <td>0.761302</td>\n",
       "      <td>1.047926</td>\n",
       "    </tr>\n",
       "    <tr>\n",
       "      <th>31</th>\n",
       "      <td>{toilet paper, vegetables}</td>\n",
       "      <td>{toilet paper}</td>\n",
       "      <td>{vegetables}</td>\n",
       "      <td>0.285524</td>\n",
       "      <td>0.760213</td>\n",
       "      <td>1.046427</td>\n",
       "    </tr>\n",
       "    <tr>\n",
       "      <th>14</th>\n",
       "      <td>{individual meals, vegetables}</td>\n",
       "      <td>{individual meals}</td>\n",
       "      <td>{vegetables}</td>\n",
       "      <td>0.284189</td>\n",
       "      <td>0.759358</td>\n",
       "      <td>1.045251</td>\n",
       "    </tr>\n",
       "    <tr>\n",
       "      <th>32</th>\n",
       "      <td>{tortillas, vegetables}</td>\n",
       "      <td>{tortillas}</td>\n",
       "      <td>{vegetables}</td>\n",
       "      <td>0.275517</td>\n",
       "      <td>0.757798</td>\n",
       "      <td>1.043103</td>\n",
       "    </tr>\n",
       "  </tbody>\n",
       "</table>\n",
       "</div>"
      ],
      "text/plain": [
       "                                         Items  \\\n",
       "34                        {yogurt, vegetables}   \n",
       "9                           {eggs, vegetables}   \n",
       "17             {laundry detergent, vegetables}   \n",
       "1                  {aluminum foil, vegetables}   \n",
       "30                         {sugar, vegetables}   \n",
       "25               {vegetables, sandwich loaves}   \n",
       "24                 {sandwich bags, vegetables}   \n",
       "6                        {cheeses, vegetables}   \n",
       "23                       {vegetables, poultry}   \n",
       "29               {vegetables, spaghetti sauce}   \n",
       "8   {vegetables, dishwashing liquid/detergent}   \n",
       "21                  {vegetables, paper towels}   \n",
       "19                          {milk, vegetables}   \n",
       "33                       {waffles, vegetables}   \n",
       "15                         {juice, vegetables}   \n",
       "7                   {dinner rolls, vegetables}   \n",
       "18                    {lunch meat, vegetables}   \n",
       "28                          {vegetables, soda}   \n",
       "26                       {shampoo, vegetables}   \n",
       "13                     {ice cream, vegetables}   \n",
       "5                        {vegetables, cereals}   \n",
       "11                        {fruits, vegetables}   \n",
       "0                   {all- purpose, vegetables}   \n",
       "2                         {vegetables, bagels}   \n",
       "27                          {vegetables, soap}   \n",
       "16                       {ketchup, vegetables}   \n",
       "20                         {vegetables, mixes}   \n",
       "10                         {flour, vegetables}   \n",
       "4                         {butter, vegetables}   \n",
       "12                     {hand soap, vegetables}   \n",
       "22                         {vegetables, pasta}   \n",
       "3                           {beef, vegetables}   \n",
       "31                  {toilet paper, vegetables}   \n",
       "14              {individual meals, vegetables}   \n",
       "32                     {tortillas, vegetables}   \n",
       "\n",
       "                        Antecedent    Consequent   Support  Confidence  \\\n",
       "34                        {yogurt}  {vegetables}  0.308205    0.814815   \n",
       "9                           {eggs}  {vegetables}  0.310874    0.814685   \n",
       "17             {laundry detergent}  {vegetables}  0.304203    0.809947   \n",
       "1                  {aluminum foil}  {vegetables}  0.309540    0.801382   \n",
       "30                         {sugar}  {vegetables}  0.293529    0.800000   \n",
       "25               {sandwich loaves}  {vegetables}  0.283522    0.794393   \n",
       "24                 {sandwich bags}  {vegetables}  0.284857    0.790741   \n",
       "6                        {cheeses}  {vegetables}  0.303536    0.784483   \n",
       "23                       {poultry}  {vegetables}  0.320213    0.783034   \n",
       "29               {spaghetti sauce}  {vegetables}  0.287525    0.782214   \n",
       "8   {dishwashing liquid/detergent}  {vegetables}  0.304870    0.781197   \n",
       "21                  {paper towels}  {vegetables}  0.285524    0.781022   \n",
       "19                          {milk}  {vegetables}  0.294863    0.779541   \n",
       "33                       {waffles}  {vegetables}  0.304870    0.778535   \n",
       "15                         {juice}  {vegetables}  0.288192    0.778378   \n",
       "7                   {dinner rolls}  {vegetables}  0.294196    0.777778   \n",
       "18                    {lunch meat}  {vegetables}  0.301534    0.776632   \n",
       "28                          {soda}  {vegetables}  0.299533    0.775475   \n",
       "26                       {shampoo}  {vegetables}  0.276851    0.772812   \n",
       "13                     {ice cream}  {vegetables}  0.300867    0.772260   \n",
       "5                        {cereals}  {vegetables}  0.295530    0.771777   \n",
       "11                        {fruits}  {vegetables}  0.284189    0.771739   \n",
       "0                   {all- purpose}  {vegetables}  0.285524    0.771171   \n",
       "2                         {bagels}  {vegetables}  0.294196    0.769634   \n",
       "27                          {soap}  {vegetables}  0.290193    0.768551   \n",
       "16                       {ketchup}  {vegetables}  0.272849    0.767355   \n",
       "20                         {mixes}  {vegetables}  0.287525    0.766904   \n",
       "10                         {flour}  {vegetables}  0.270847    0.766038   \n",
       "4                         {butter}  {vegetables}  0.285524    0.765653   \n",
       "12                     {hand soap}  {vegetables}  0.266845    0.764818   \n",
       "22                         {pasta}  {vegetables}  0.287525    0.762832   \n",
       "3                           {beef}  {vegetables}  0.280854    0.761302   \n",
       "31                  {toilet paper}  {vegetables}  0.285524    0.760213   \n",
       "14              {individual meals}  {vegetables}  0.284189    0.759358   \n",
       "32                     {tortillas}  {vegetables}  0.275517    0.757798   \n",
       "\n",
       "        Lift  \n",
       "34  1.121586  \n",
       "9   1.121408  \n",
       "17  1.114885  \n",
       "1   1.103096  \n",
       "30  1.101194  \n",
       "25  1.093475  \n",
       "24  1.088448  \n",
       "6   1.079834  \n",
       "23  1.077841  \n",
       "29  1.076712  \n",
       "8   1.075311  \n",
       "21  1.075071  \n",
       "19  1.073033  \n",
       "33  1.071647  \n",
       "15  1.071432  \n",
       "7   1.070605  \n",
       "18  1.069028  \n",
       "28  1.067435  \n",
       "26  1.063770  \n",
       "13  1.063010  \n",
       "5   1.062345  \n",
       "11  1.062293  \n",
       "0   1.061511  \n",
       "2   1.059395  \n",
       "27  1.057905  \n",
       "16  1.056258  \n",
       "20  1.055637  \n",
       "10  1.054445  \n",
       "4   1.053915  \n",
       "12  1.052766  \n",
       "22  1.050032  \n",
       "3   1.047926  \n",
       "31  1.046427  \n",
       "14  1.045251  \n",
       "32  1.043103  "
      ]
     },
     "execution_count": 27,
     "metadata": {},
     "output_type": "execute_result"
    }
   ],
   "source": [
    "df.sort_values(by ='Lift', ascending = False, inplace = True)\n",
    "df"
   ]
  },
  {
   "cell_type": "code",
   "execution_count": 28,
   "id": "bada5257",
   "metadata": {},
   "outputs": [
    {
     "name": "stdout",
     "output_type": "stream",
     "text": [
      "Requirement already satisfied: plotly in c:\\users\\osas\\anaconda3\\lib\\site-packages (5.6.0)\n",
      "Requirement already satisfied: six in c:\\users\\osas\\anaconda3\\lib\\site-packages (from plotly) (1.16.0)\n",
      "Requirement already satisfied: tenacity>=6.2.0 in c:\\users\\osas\\anaconda3\\lib\\site-packages (from plotly) (8.0.1)\n"
     ]
    }
   ],
   "source": [
    "!pip install plotly"
   ]
  },
  {
   "cell_type": "code",
   "execution_count": 29,
   "id": "f0f575d6",
   "metadata": {},
   "outputs": [
    {
     "data": {
      "application/vnd.plotly.v1+json": {
       "config": {
        "plotlyServerURL": "https://plot.ly"
       },
       "data": [
        {
         "hovertemplate": "Support=%{x}<br>Confidence=%{y}<br>Lift=%{marker.color}<extra></extra>",
         "legendgroup": "",
         "marker": {
          "color": [
           1.1215862326973436,
           1.1214079767798775,
           1.1148853299668735,
           1.1030956447819378,
           1.1011937557392102,
           1.0934751079186082,
           1.0884484576403768,
           1.079834394097717,
           1.07784054395355,
           1.0767116804074401,
           1.0753109965231176,
           1.075070546205251,
           1.073032716130359,
           1.0716472452572807,
           1.0714317623408531,
           1.0706050403020098,
           1.0690283023928757,
           1.0674352252307975,
           1.0637695731652055,
           1.0630102393801024,
           1.0623450213250658,
           1.0622928893679882,
           1.0615110978747344,
           1.05939451631979,
           1.0579047785922182,
           1.0562576127986327,
           1.0556372524991093,
           1.0544449642219798,
           1.0539153118434301,
           1.05276649688261,
           1.0500320989460168,
           1.0479262458548995,
           1.0464274588285567,
           1.0452507574529937,
           1.0431032594502152
          ],
          "coloraxis": "coloraxis",
          "symbol": "circle"
         },
         "mode": "markers",
         "name": "",
         "orientation": "v",
         "showlegend": false,
         "type": "scatter",
         "x": [
          0.30820547031354234,
          0.31087391594396263,
          0.30420280186791193,
          0.3095396931287525,
          0.2935290193462308,
          0.2835223482321548,
          0.2848565710473649,
          0.3035356904603069,
          0.3202134756504336,
          0.2875250166777852,
          0.304869913275517,
          0.28552368245497,
          0.29486324216144094,
          0.304869913275517,
          0.28819212808539024,
          0.2941961307538359,
          0.30153435623749164,
          0.29953302201467646,
          0.2768512341561041,
          0.3008672448298866,
          0.29553035356904606,
          0.28418945963975983,
          0.28552368245497,
          0.2941961307538359,
          0.2901934623082055,
          0.27284856571047367,
          0.2875250166777852,
          0.27084723148765844,
          0.28552368245497,
          0.266844563042028,
          0.2875250166777852,
          0.2808539026017345,
          0.28552368245497,
          0.28418945963975983,
          0.2755170113408939
         ],
         "xaxis": "x",
         "y": [
          0.8148148148148147,
          0.8146853146853146,
          0.8099467140319715,
          0.8013816925734024,
          0.8,
          0.794392523364486,
          0.7907407407407407,
          0.7844827586206897,
          0.7830342577487764,
          0.7822141560798548,
          0.7811965811965812,
          0.781021897810219,
          0.7795414462081128,
          0.7785349233390119,
          0.7783783783783783,
          0.7777777777777777,
          0.7766323024054982,
          0.7754749568221071,
          0.7728119180633147,
          0.7722602739726028,
          0.7717770034843207,
          0.7717391304347826,
          0.7711711711711713,
          0.7696335078534031,
          0.7685512367491166,
          0.7673545966228893,
          0.7669039145907472,
          0.7660377358490567,
          0.7656529516994633,
          0.7648183556405354,
          0.7628318584070797,
          0.7613019891500904,
          0.7602131438721137,
          0.7593582887700535,
          0.7577981651376147
         ],
         "yaxis": "y"
        }
       ],
       "layout": {
        "coloraxis": {
         "colorbar": {
          "title": {
           "text": "Lift"
          }
         },
         "colorscale": [
          [
           0,
           "rgb(75, 41, 145)"
          ],
          [
           0.16666666666666666,
           "rgb(135, 44, 162)"
          ],
          [
           0.3333333333333333,
           "rgb(192, 54, 157)"
          ],
          [
           0.5,
           "rgb(234, 79, 136)"
          ],
          [
           0.6666666666666666,
           "rgb(250, 120, 118)"
          ],
          [
           0.8333333333333334,
           "rgb(246, 169, 122)"
          ],
          [
           1,
           "rgb(237, 217, 163)"
          ]
         ]
        },
        "legend": {
         "tracegroupgap": 0
        },
        "margin": {
         "t": 60
        },
        "template": {
         "data": {
          "bar": [
           {
            "error_x": {
             "color": "#2a3f5f"
            },
            "error_y": {
             "color": "#2a3f5f"
            },
            "marker": {
             "line": {
              "color": "#E5ECF6",
              "width": 0.5
             },
             "pattern": {
              "fillmode": "overlay",
              "size": 10,
              "solidity": 0.2
             }
            },
            "type": "bar"
           }
          ],
          "barpolar": [
           {
            "marker": {
             "line": {
              "color": "#E5ECF6",
              "width": 0.5
             },
             "pattern": {
              "fillmode": "overlay",
              "size": 10,
              "solidity": 0.2
             }
            },
            "type": "barpolar"
           }
          ],
          "carpet": [
           {
            "aaxis": {
             "endlinecolor": "#2a3f5f",
             "gridcolor": "white",
             "linecolor": "white",
             "minorgridcolor": "white",
             "startlinecolor": "#2a3f5f"
            },
            "baxis": {
             "endlinecolor": "#2a3f5f",
             "gridcolor": "white",
             "linecolor": "white",
             "minorgridcolor": "white",
             "startlinecolor": "#2a3f5f"
            },
            "type": "carpet"
           }
          ],
          "choropleth": [
           {
            "colorbar": {
             "outlinewidth": 0,
             "ticks": ""
            },
            "type": "choropleth"
           }
          ],
          "contour": [
           {
            "colorbar": {
             "outlinewidth": 0,
             "ticks": ""
            },
            "colorscale": [
             [
              0,
              "#0d0887"
             ],
             [
              0.1111111111111111,
              "#46039f"
             ],
             [
              0.2222222222222222,
              "#7201a8"
             ],
             [
              0.3333333333333333,
              "#9c179e"
             ],
             [
              0.4444444444444444,
              "#bd3786"
             ],
             [
              0.5555555555555556,
              "#d8576b"
             ],
             [
              0.6666666666666666,
              "#ed7953"
             ],
             [
              0.7777777777777778,
              "#fb9f3a"
             ],
             [
              0.8888888888888888,
              "#fdca26"
             ],
             [
              1,
              "#f0f921"
             ]
            ],
            "type": "contour"
           }
          ],
          "contourcarpet": [
           {
            "colorbar": {
             "outlinewidth": 0,
             "ticks": ""
            },
            "type": "contourcarpet"
           }
          ],
          "heatmap": [
           {
            "colorbar": {
             "outlinewidth": 0,
             "ticks": ""
            },
            "colorscale": [
             [
              0,
              "#0d0887"
             ],
             [
              0.1111111111111111,
              "#46039f"
             ],
             [
              0.2222222222222222,
              "#7201a8"
             ],
             [
              0.3333333333333333,
              "#9c179e"
             ],
             [
              0.4444444444444444,
              "#bd3786"
             ],
             [
              0.5555555555555556,
              "#d8576b"
             ],
             [
              0.6666666666666666,
              "#ed7953"
             ],
             [
              0.7777777777777778,
              "#fb9f3a"
             ],
             [
              0.8888888888888888,
              "#fdca26"
             ],
             [
              1,
              "#f0f921"
             ]
            ],
            "type": "heatmap"
           }
          ],
          "heatmapgl": [
           {
            "colorbar": {
             "outlinewidth": 0,
             "ticks": ""
            },
            "colorscale": [
             [
              0,
              "#0d0887"
             ],
             [
              0.1111111111111111,
              "#46039f"
             ],
             [
              0.2222222222222222,
              "#7201a8"
             ],
             [
              0.3333333333333333,
              "#9c179e"
             ],
             [
              0.4444444444444444,
              "#bd3786"
             ],
             [
              0.5555555555555556,
              "#d8576b"
             ],
             [
              0.6666666666666666,
              "#ed7953"
             ],
             [
              0.7777777777777778,
              "#fb9f3a"
             ],
             [
              0.8888888888888888,
              "#fdca26"
             ],
             [
              1,
              "#f0f921"
             ]
            ],
            "type": "heatmapgl"
           }
          ],
          "histogram": [
           {
            "marker": {
             "pattern": {
              "fillmode": "overlay",
              "size": 10,
              "solidity": 0.2
             }
            },
            "type": "histogram"
           }
          ],
          "histogram2d": [
           {
            "colorbar": {
             "outlinewidth": 0,
             "ticks": ""
            },
            "colorscale": [
             [
              0,
              "#0d0887"
             ],
             [
              0.1111111111111111,
              "#46039f"
             ],
             [
              0.2222222222222222,
              "#7201a8"
             ],
             [
              0.3333333333333333,
              "#9c179e"
             ],
             [
              0.4444444444444444,
              "#bd3786"
             ],
             [
              0.5555555555555556,
              "#d8576b"
             ],
             [
              0.6666666666666666,
              "#ed7953"
             ],
             [
              0.7777777777777778,
              "#fb9f3a"
             ],
             [
              0.8888888888888888,
              "#fdca26"
             ],
             [
              1,
              "#f0f921"
             ]
            ],
            "type": "histogram2d"
           }
          ],
          "histogram2dcontour": [
           {
            "colorbar": {
             "outlinewidth": 0,
             "ticks": ""
            },
            "colorscale": [
             [
              0,
              "#0d0887"
             ],
             [
              0.1111111111111111,
              "#46039f"
             ],
             [
              0.2222222222222222,
              "#7201a8"
             ],
             [
              0.3333333333333333,
              "#9c179e"
             ],
             [
              0.4444444444444444,
              "#bd3786"
             ],
             [
              0.5555555555555556,
              "#d8576b"
             ],
             [
              0.6666666666666666,
              "#ed7953"
             ],
             [
              0.7777777777777778,
              "#fb9f3a"
             ],
             [
              0.8888888888888888,
              "#fdca26"
             ],
             [
              1,
              "#f0f921"
             ]
            ],
            "type": "histogram2dcontour"
           }
          ],
          "mesh3d": [
           {
            "colorbar": {
             "outlinewidth": 0,
             "ticks": ""
            },
            "type": "mesh3d"
           }
          ],
          "parcoords": [
           {
            "line": {
             "colorbar": {
              "outlinewidth": 0,
              "ticks": ""
             }
            },
            "type": "parcoords"
           }
          ],
          "pie": [
           {
            "automargin": true,
            "type": "pie"
           }
          ],
          "scatter": [
           {
            "marker": {
             "colorbar": {
              "outlinewidth": 0,
              "ticks": ""
             }
            },
            "type": "scatter"
           }
          ],
          "scatter3d": [
           {
            "line": {
             "colorbar": {
              "outlinewidth": 0,
              "ticks": ""
             }
            },
            "marker": {
             "colorbar": {
              "outlinewidth": 0,
              "ticks": ""
             }
            },
            "type": "scatter3d"
           }
          ],
          "scattercarpet": [
           {
            "marker": {
             "colorbar": {
              "outlinewidth": 0,
              "ticks": ""
             }
            },
            "type": "scattercarpet"
           }
          ],
          "scattergeo": [
           {
            "marker": {
             "colorbar": {
              "outlinewidth": 0,
              "ticks": ""
             }
            },
            "type": "scattergeo"
           }
          ],
          "scattergl": [
           {
            "marker": {
             "colorbar": {
              "outlinewidth": 0,
              "ticks": ""
             }
            },
            "type": "scattergl"
           }
          ],
          "scattermapbox": [
           {
            "marker": {
             "colorbar": {
              "outlinewidth": 0,
              "ticks": ""
             }
            },
            "type": "scattermapbox"
           }
          ],
          "scatterpolar": [
           {
            "marker": {
             "colorbar": {
              "outlinewidth": 0,
              "ticks": ""
             }
            },
            "type": "scatterpolar"
           }
          ],
          "scatterpolargl": [
           {
            "marker": {
             "colorbar": {
              "outlinewidth": 0,
              "ticks": ""
             }
            },
            "type": "scatterpolargl"
           }
          ],
          "scatterternary": [
           {
            "marker": {
             "colorbar": {
              "outlinewidth": 0,
              "ticks": ""
             }
            },
            "type": "scatterternary"
           }
          ],
          "surface": [
           {
            "colorbar": {
             "outlinewidth": 0,
             "ticks": ""
            },
            "colorscale": [
             [
              0,
              "#0d0887"
             ],
             [
              0.1111111111111111,
              "#46039f"
             ],
             [
              0.2222222222222222,
              "#7201a8"
             ],
             [
              0.3333333333333333,
              "#9c179e"
             ],
             [
              0.4444444444444444,
              "#bd3786"
             ],
             [
              0.5555555555555556,
              "#d8576b"
             ],
             [
              0.6666666666666666,
              "#ed7953"
             ],
             [
              0.7777777777777778,
              "#fb9f3a"
             ],
             [
              0.8888888888888888,
              "#fdca26"
             ],
             [
              1,
              "#f0f921"
             ]
            ],
            "type": "surface"
           }
          ],
          "table": [
           {
            "cells": {
             "fill": {
              "color": "#EBF0F8"
             },
             "line": {
              "color": "white"
             }
            },
            "header": {
             "fill": {
              "color": "#C8D4E3"
             },
             "line": {
              "color": "white"
             }
            },
            "type": "table"
           }
          ]
         },
         "layout": {
          "annotationdefaults": {
           "arrowcolor": "#2a3f5f",
           "arrowhead": 0,
           "arrowwidth": 1
          },
          "autotypenumbers": "strict",
          "coloraxis": {
           "colorbar": {
            "outlinewidth": 0,
            "ticks": ""
           }
          },
          "colorscale": {
           "diverging": [
            [
             0,
             "#8e0152"
            ],
            [
             0.1,
             "#c51b7d"
            ],
            [
             0.2,
             "#de77ae"
            ],
            [
             0.3,
             "#f1b6da"
            ],
            [
             0.4,
             "#fde0ef"
            ],
            [
             0.5,
             "#f7f7f7"
            ],
            [
             0.6,
             "#e6f5d0"
            ],
            [
             0.7,
             "#b8e186"
            ],
            [
             0.8,
             "#7fbc41"
            ],
            [
             0.9,
             "#4d9221"
            ],
            [
             1,
             "#276419"
            ]
           ],
           "sequential": [
            [
             0,
             "#0d0887"
            ],
            [
             0.1111111111111111,
             "#46039f"
            ],
            [
             0.2222222222222222,
             "#7201a8"
            ],
            [
             0.3333333333333333,
             "#9c179e"
            ],
            [
             0.4444444444444444,
             "#bd3786"
            ],
            [
             0.5555555555555556,
             "#d8576b"
            ],
            [
             0.6666666666666666,
             "#ed7953"
            ],
            [
             0.7777777777777778,
             "#fb9f3a"
            ],
            [
             0.8888888888888888,
             "#fdca26"
            ],
            [
             1,
             "#f0f921"
            ]
           ],
           "sequentialminus": [
            [
             0,
             "#0d0887"
            ],
            [
             0.1111111111111111,
             "#46039f"
            ],
            [
             0.2222222222222222,
             "#7201a8"
            ],
            [
             0.3333333333333333,
             "#9c179e"
            ],
            [
             0.4444444444444444,
             "#bd3786"
            ],
            [
             0.5555555555555556,
             "#d8576b"
            ],
            [
             0.6666666666666666,
             "#ed7953"
            ],
            [
             0.7777777777777778,
             "#fb9f3a"
            ],
            [
             0.8888888888888888,
             "#fdca26"
            ],
            [
             1,
             "#f0f921"
            ]
           ]
          },
          "colorway": [
           "#636efa",
           "#EF553B",
           "#00cc96",
           "#ab63fa",
           "#FFA15A",
           "#19d3f3",
           "#FF6692",
           "#B6E880",
           "#FF97FF",
           "#FECB52"
          ],
          "font": {
           "color": "#2a3f5f"
          },
          "geo": {
           "bgcolor": "white",
           "lakecolor": "white",
           "landcolor": "#E5ECF6",
           "showlakes": true,
           "showland": true,
           "subunitcolor": "white"
          },
          "hoverlabel": {
           "align": "left"
          },
          "hovermode": "closest",
          "mapbox": {
           "style": "light"
          },
          "paper_bgcolor": "white",
          "plot_bgcolor": "#E5ECF6",
          "polar": {
           "angularaxis": {
            "gridcolor": "white",
            "linecolor": "white",
            "ticks": ""
           },
           "bgcolor": "#E5ECF6",
           "radialaxis": {
            "gridcolor": "white",
            "linecolor": "white",
            "ticks": ""
           }
          },
          "scene": {
           "xaxis": {
            "backgroundcolor": "#E5ECF6",
            "gridcolor": "white",
            "gridwidth": 2,
            "linecolor": "white",
            "showbackground": true,
            "ticks": "",
            "zerolinecolor": "white"
           },
           "yaxis": {
            "backgroundcolor": "#E5ECF6",
            "gridcolor": "white",
            "gridwidth": 2,
            "linecolor": "white",
            "showbackground": true,
            "ticks": "",
            "zerolinecolor": "white"
           },
           "zaxis": {
            "backgroundcolor": "#E5ECF6",
            "gridcolor": "white",
            "gridwidth": 2,
            "linecolor": "white",
            "showbackground": true,
            "ticks": "",
            "zerolinecolor": "white"
           }
          },
          "shapedefaults": {
           "line": {
            "color": "#2a3f5f"
           }
          },
          "ternary": {
           "aaxis": {
            "gridcolor": "white",
            "linecolor": "white",
            "ticks": ""
           },
           "baxis": {
            "gridcolor": "white",
            "linecolor": "white",
            "ticks": ""
           },
           "bgcolor": "#E5ECF6",
           "caxis": {
            "gridcolor": "white",
            "linecolor": "white",
            "ticks": ""
           }
          },
          "title": {
           "x": 0.05
          },
          "xaxis": {
           "automargin": true,
           "gridcolor": "white",
           "linecolor": "white",
           "ticks": "",
           "title": {
            "standoff": 15
           },
           "zerolinecolor": "white",
           "zerolinewidth": 2
          },
          "yaxis": {
           "automargin": true,
           "gridcolor": "white",
           "linecolor": "white",
           "ticks": "",
           "title": {
            "standoff": 15
           },
           "zerolinecolor": "white",
           "zerolinewidth": 2
          }
         }
        },
        "xaxis": {
         "anchor": "y",
         "domain": [
          0,
          1
         ],
         "title": {
          "text": "Support"
         }
        },
        "yaxis": {
         "anchor": "x",
         "domain": [
          0,
          1
         ],
         "title": {
          "text": "Confidence"
         }
        }
       }
      },
      "text/html": [
       "<div>                            <div id=\"92e53056-98dc-4c63-a5cf-214f8c0895ee\" class=\"plotly-graph-div\" style=\"height:525px; width:100%;\"></div>            <script type=\"text/javascript\">                require([\"plotly\"], function(Plotly) {                    window.PLOTLYENV=window.PLOTLYENV || {};                                    if (document.getElementById(\"92e53056-98dc-4c63-a5cf-214f8c0895ee\")) {                    Plotly.newPlot(                        \"92e53056-98dc-4c63-a5cf-214f8c0895ee\",                        [{\"hovertemplate\":\"Support=%{x}<br>Confidence=%{y}<br>Lift=%{marker.color}<extra></extra>\",\"legendgroup\":\"\",\"marker\":{\"color\":[1.1215862326973436,1.1214079767798775,1.1148853299668735,1.1030956447819378,1.1011937557392102,1.0934751079186082,1.0884484576403768,1.079834394097717,1.07784054395355,1.0767116804074401,1.0753109965231176,1.075070546205251,1.073032716130359,1.0716472452572807,1.0714317623408531,1.0706050403020098,1.0690283023928757,1.0674352252307975,1.0637695731652055,1.0630102393801024,1.0623450213250658,1.0622928893679882,1.0615110978747344,1.05939451631979,1.0579047785922182,1.0562576127986327,1.0556372524991093,1.0544449642219798,1.0539153118434301,1.05276649688261,1.0500320989460168,1.0479262458548995,1.0464274588285567,1.0452507574529937,1.0431032594502152],\"coloraxis\":\"coloraxis\",\"symbol\":\"circle\"},\"mode\":\"markers\",\"name\":\"\",\"orientation\":\"v\",\"showlegend\":false,\"x\":[0.30820547031354234,0.31087391594396263,0.30420280186791193,0.3095396931287525,0.2935290193462308,0.2835223482321548,0.2848565710473649,0.3035356904603069,0.3202134756504336,0.2875250166777852,0.304869913275517,0.28552368245497,0.29486324216144094,0.304869913275517,0.28819212808539024,0.2941961307538359,0.30153435623749164,0.29953302201467646,0.2768512341561041,0.3008672448298866,0.29553035356904606,0.28418945963975983,0.28552368245497,0.2941961307538359,0.2901934623082055,0.27284856571047367,0.2875250166777852,0.27084723148765844,0.28552368245497,0.266844563042028,0.2875250166777852,0.2808539026017345,0.28552368245497,0.28418945963975983,0.2755170113408939],\"xaxis\":\"x\",\"y\":[0.8148148148148147,0.8146853146853146,0.8099467140319715,0.8013816925734024,0.8,0.794392523364486,0.7907407407407407,0.7844827586206897,0.7830342577487764,0.7822141560798548,0.7811965811965812,0.781021897810219,0.7795414462081128,0.7785349233390119,0.7783783783783783,0.7777777777777777,0.7766323024054982,0.7754749568221071,0.7728119180633147,0.7722602739726028,0.7717770034843207,0.7717391304347826,0.7711711711711713,0.7696335078534031,0.7685512367491166,0.7673545966228893,0.7669039145907472,0.7660377358490567,0.7656529516994633,0.7648183556405354,0.7628318584070797,0.7613019891500904,0.7602131438721137,0.7593582887700535,0.7577981651376147],\"yaxis\":\"y\",\"type\":\"scatter\"}],                        {\"template\":{\"data\":{\"bar\":[{\"error_x\":{\"color\":\"#2a3f5f\"},\"error_y\":{\"color\":\"#2a3f5f\"},\"marker\":{\"line\":{\"color\":\"#E5ECF6\",\"width\":0.5},\"pattern\":{\"fillmode\":\"overlay\",\"size\":10,\"solidity\":0.2}},\"type\":\"bar\"}],\"barpolar\":[{\"marker\":{\"line\":{\"color\":\"#E5ECF6\",\"width\":0.5},\"pattern\":{\"fillmode\":\"overlay\",\"size\":10,\"solidity\":0.2}},\"type\":\"barpolar\"}],\"carpet\":[{\"aaxis\":{\"endlinecolor\":\"#2a3f5f\",\"gridcolor\":\"white\",\"linecolor\":\"white\",\"minorgridcolor\":\"white\",\"startlinecolor\":\"#2a3f5f\"},\"baxis\":{\"endlinecolor\":\"#2a3f5f\",\"gridcolor\":\"white\",\"linecolor\":\"white\",\"minorgridcolor\":\"white\",\"startlinecolor\":\"#2a3f5f\"},\"type\":\"carpet\"}],\"choropleth\":[{\"colorbar\":{\"outlinewidth\":0,\"ticks\":\"\"},\"type\":\"choropleth\"}],\"contour\":[{\"colorbar\":{\"outlinewidth\":0,\"ticks\":\"\"},\"colorscale\":[[0.0,\"#0d0887\"],[0.1111111111111111,\"#46039f\"],[0.2222222222222222,\"#7201a8\"],[0.3333333333333333,\"#9c179e\"],[0.4444444444444444,\"#bd3786\"],[0.5555555555555556,\"#d8576b\"],[0.6666666666666666,\"#ed7953\"],[0.7777777777777778,\"#fb9f3a\"],[0.8888888888888888,\"#fdca26\"],[1.0,\"#f0f921\"]],\"type\":\"contour\"}],\"contourcarpet\":[{\"colorbar\":{\"outlinewidth\":0,\"ticks\":\"\"},\"type\":\"contourcarpet\"}],\"heatmap\":[{\"colorbar\":{\"outlinewidth\":0,\"ticks\":\"\"},\"colorscale\":[[0.0,\"#0d0887\"],[0.1111111111111111,\"#46039f\"],[0.2222222222222222,\"#7201a8\"],[0.3333333333333333,\"#9c179e\"],[0.4444444444444444,\"#bd3786\"],[0.5555555555555556,\"#d8576b\"],[0.6666666666666666,\"#ed7953\"],[0.7777777777777778,\"#fb9f3a\"],[0.8888888888888888,\"#fdca26\"],[1.0,\"#f0f921\"]],\"type\":\"heatmap\"}],\"heatmapgl\":[{\"colorbar\":{\"outlinewidth\":0,\"ticks\":\"\"},\"colorscale\":[[0.0,\"#0d0887\"],[0.1111111111111111,\"#46039f\"],[0.2222222222222222,\"#7201a8\"],[0.3333333333333333,\"#9c179e\"],[0.4444444444444444,\"#bd3786\"],[0.5555555555555556,\"#d8576b\"],[0.6666666666666666,\"#ed7953\"],[0.7777777777777778,\"#fb9f3a\"],[0.8888888888888888,\"#fdca26\"],[1.0,\"#f0f921\"]],\"type\":\"heatmapgl\"}],\"histogram\":[{\"marker\":{\"pattern\":{\"fillmode\":\"overlay\",\"size\":10,\"solidity\":0.2}},\"type\":\"histogram\"}],\"histogram2d\":[{\"colorbar\":{\"outlinewidth\":0,\"ticks\":\"\"},\"colorscale\":[[0.0,\"#0d0887\"],[0.1111111111111111,\"#46039f\"],[0.2222222222222222,\"#7201a8\"],[0.3333333333333333,\"#9c179e\"],[0.4444444444444444,\"#bd3786\"],[0.5555555555555556,\"#d8576b\"],[0.6666666666666666,\"#ed7953\"],[0.7777777777777778,\"#fb9f3a\"],[0.8888888888888888,\"#fdca26\"],[1.0,\"#f0f921\"]],\"type\":\"histogram2d\"}],\"histogram2dcontour\":[{\"colorbar\":{\"outlinewidth\":0,\"ticks\":\"\"},\"colorscale\":[[0.0,\"#0d0887\"],[0.1111111111111111,\"#46039f\"],[0.2222222222222222,\"#7201a8\"],[0.3333333333333333,\"#9c179e\"],[0.4444444444444444,\"#bd3786\"],[0.5555555555555556,\"#d8576b\"],[0.6666666666666666,\"#ed7953\"],[0.7777777777777778,\"#fb9f3a\"],[0.8888888888888888,\"#fdca26\"],[1.0,\"#f0f921\"]],\"type\":\"histogram2dcontour\"}],\"mesh3d\":[{\"colorbar\":{\"outlinewidth\":0,\"ticks\":\"\"},\"type\":\"mesh3d\"}],\"parcoords\":[{\"line\":{\"colorbar\":{\"outlinewidth\":0,\"ticks\":\"\"}},\"type\":\"parcoords\"}],\"pie\":[{\"automargin\":true,\"type\":\"pie\"}],\"scatter\":[{\"marker\":{\"colorbar\":{\"outlinewidth\":0,\"ticks\":\"\"}},\"type\":\"scatter\"}],\"scatter3d\":[{\"line\":{\"colorbar\":{\"outlinewidth\":0,\"ticks\":\"\"}},\"marker\":{\"colorbar\":{\"outlinewidth\":0,\"ticks\":\"\"}},\"type\":\"scatter3d\"}],\"scattercarpet\":[{\"marker\":{\"colorbar\":{\"outlinewidth\":0,\"ticks\":\"\"}},\"type\":\"scattercarpet\"}],\"scattergeo\":[{\"marker\":{\"colorbar\":{\"outlinewidth\":0,\"ticks\":\"\"}},\"type\":\"scattergeo\"}],\"scattergl\":[{\"marker\":{\"colorbar\":{\"outlinewidth\":0,\"ticks\":\"\"}},\"type\":\"scattergl\"}],\"scattermapbox\":[{\"marker\":{\"colorbar\":{\"outlinewidth\":0,\"ticks\":\"\"}},\"type\":\"scattermapbox\"}],\"scatterpolar\":[{\"marker\":{\"colorbar\":{\"outlinewidth\":0,\"ticks\":\"\"}},\"type\":\"scatterpolar\"}],\"scatterpolargl\":[{\"marker\":{\"colorbar\":{\"outlinewidth\":0,\"ticks\":\"\"}},\"type\":\"scatterpolargl\"}],\"scatterternary\":[{\"marker\":{\"colorbar\":{\"outlinewidth\":0,\"ticks\":\"\"}},\"type\":\"scatterternary\"}],\"surface\":[{\"colorbar\":{\"outlinewidth\":0,\"ticks\":\"\"},\"colorscale\":[[0.0,\"#0d0887\"],[0.1111111111111111,\"#46039f\"],[0.2222222222222222,\"#7201a8\"],[0.3333333333333333,\"#9c179e\"],[0.4444444444444444,\"#bd3786\"],[0.5555555555555556,\"#d8576b\"],[0.6666666666666666,\"#ed7953\"],[0.7777777777777778,\"#fb9f3a\"],[0.8888888888888888,\"#fdca26\"],[1.0,\"#f0f921\"]],\"type\":\"surface\"}],\"table\":[{\"cells\":{\"fill\":{\"color\":\"#EBF0F8\"},\"line\":{\"color\":\"white\"}},\"header\":{\"fill\":{\"color\":\"#C8D4E3\"},\"line\":{\"color\":\"white\"}},\"type\":\"table\"}]},\"layout\":{\"annotationdefaults\":{\"arrowcolor\":\"#2a3f5f\",\"arrowhead\":0,\"arrowwidth\":1},\"autotypenumbers\":\"strict\",\"coloraxis\":{\"colorbar\":{\"outlinewidth\":0,\"ticks\":\"\"}},\"colorscale\":{\"diverging\":[[0,\"#8e0152\"],[0.1,\"#c51b7d\"],[0.2,\"#de77ae\"],[0.3,\"#f1b6da\"],[0.4,\"#fde0ef\"],[0.5,\"#f7f7f7\"],[0.6,\"#e6f5d0\"],[0.7,\"#b8e186\"],[0.8,\"#7fbc41\"],[0.9,\"#4d9221\"],[1,\"#276419\"]],\"sequential\":[[0.0,\"#0d0887\"],[0.1111111111111111,\"#46039f\"],[0.2222222222222222,\"#7201a8\"],[0.3333333333333333,\"#9c179e\"],[0.4444444444444444,\"#bd3786\"],[0.5555555555555556,\"#d8576b\"],[0.6666666666666666,\"#ed7953\"],[0.7777777777777778,\"#fb9f3a\"],[0.8888888888888888,\"#fdca26\"],[1.0,\"#f0f921\"]],\"sequentialminus\":[[0.0,\"#0d0887\"],[0.1111111111111111,\"#46039f\"],[0.2222222222222222,\"#7201a8\"],[0.3333333333333333,\"#9c179e\"],[0.4444444444444444,\"#bd3786\"],[0.5555555555555556,\"#d8576b\"],[0.6666666666666666,\"#ed7953\"],[0.7777777777777778,\"#fb9f3a\"],[0.8888888888888888,\"#fdca26\"],[1.0,\"#f0f921\"]]},\"colorway\":[\"#636efa\",\"#EF553B\",\"#00cc96\",\"#ab63fa\",\"#FFA15A\",\"#19d3f3\",\"#FF6692\",\"#B6E880\",\"#FF97FF\",\"#FECB52\"],\"font\":{\"color\":\"#2a3f5f\"},\"geo\":{\"bgcolor\":\"white\",\"lakecolor\":\"white\",\"landcolor\":\"#E5ECF6\",\"showlakes\":true,\"showland\":true,\"subunitcolor\":\"white\"},\"hoverlabel\":{\"align\":\"left\"},\"hovermode\":\"closest\",\"mapbox\":{\"style\":\"light\"},\"paper_bgcolor\":\"white\",\"plot_bgcolor\":\"#E5ECF6\",\"polar\":{\"angularaxis\":{\"gridcolor\":\"white\",\"linecolor\":\"white\",\"ticks\":\"\"},\"bgcolor\":\"#E5ECF6\",\"radialaxis\":{\"gridcolor\":\"white\",\"linecolor\":\"white\",\"ticks\":\"\"}},\"scene\":{\"xaxis\":{\"backgroundcolor\":\"#E5ECF6\",\"gridcolor\":\"white\",\"gridwidth\":2,\"linecolor\":\"white\",\"showbackground\":true,\"ticks\":\"\",\"zerolinecolor\":\"white\"},\"yaxis\":{\"backgroundcolor\":\"#E5ECF6\",\"gridcolor\":\"white\",\"gridwidth\":2,\"linecolor\":\"white\",\"showbackground\":true,\"ticks\":\"\",\"zerolinecolor\":\"white\"},\"zaxis\":{\"backgroundcolor\":\"#E5ECF6\",\"gridcolor\":\"white\",\"gridwidth\":2,\"linecolor\":\"white\",\"showbackground\":true,\"ticks\":\"\",\"zerolinecolor\":\"white\"}},\"shapedefaults\":{\"line\":{\"color\":\"#2a3f5f\"}},\"ternary\":{\"aaxis\":{\"gridcolor\":\"white\",\"linecolor\":\"white\",\"ticks\":\"\"},\"baxis\":{\"gridcolor\":\"white\",\"linecolor\":\"white\",\"ticks\":\"\"},\"bgcolor\":\"#E5ECF6\",\"caxis\":{\"gridcolor\":\"white\",\"linecolor\":\"white\",\"ticks\":\"\"}},\"title\":{\"x\":0.05},\"xaxis\":{\"automargin\":true,\"gridcolor\":\"white\",\"linecolor\":\"white\",\"ticks\":\"\",\"title\":{\"standoff\":15},\"zerolinecolor\":\"white\",\"zerolinewidth\":2},\"yaxis\":{\"automargin\":true,\"gridcolor\":\"white\",\"linecolor\":\"white\",\"ticks\":\"\",\"title\":{\"standoff\":15},\"zerolinecolor\":\"white\",\"zerolinewidth\":2}}},\"xaxis\":{\"anchor\":\"y\",\"domain\":[0.0,1.0],\"title\":{\"text\":\"Support\"}},\"yaxis\":{\"anchor\":\"x\",\"domain\":[0.0,1.0],\"title\":{\"text\":\"Confidence\"}},\"coloraxis\":{\"colorbar\":{\"title\":{\"text\":\"Lift\"}},\"colorscale\":[[0.0,\"rgb(75, 41, 145)\"],[0.16666666666666666,\"rgb(135, 44, 162)\"],[0.3333333333333333,\"rgb(192, 54, 157)\"],[0.5,\"rgb(234, 79, 136)\"],[0.6666666666666666,\"rgb(250, 120, 118)\"],[0.8333333333333334,\"rgb(246, 169, 122)\"],[1.0,\"rgb(237, 217, 163)\"]]},\"legend\":{\"tracegroupgap\":0},\"margin\":{\"t\":60}},                        {\"responsive\": true}                    ).then(function(){\n",
       "                            \n",
       "var gd = document.getElementById('92e53056-98dc-4c63-a5cf-214f8c0895ee');\n",
       "var x = new MutationObserver(function (mutations, observer) {{\n",
       "        var display = window.getComputedStyle(gd).display;\n",
       "        if (!display || display === 'none') {{\n",
       "            console.log([gd, 'removed!']);\n",
       "            Plotly.purge(gd);\n",
       "            observer.disconnect();\n",
       "        }}\n",
       "}});\n",
       "\n",
       "// Listen for the removal of the full notebook cells\n",
       "var notebookContainer = gd.closest('#notebook-container');\n",
       "if (notebookContainer) {{\n",
       "    x.observe(notebookContainer, {childList: true});\n",
       "}}\n",
       "\n",
       "// Listen for the clearing of the current output cell\n",
       "var outputEl = gd.closest('.output');\n",
       "if (outputEl) {{\n",
       "    x.observe(outputEl, {childList: true});\n",
       "}}\n",
       "\n",
       "                        })                };                });            </script>        </div>"
      ]
     },
     "metadata": {},
     "output_type": "display_data"
    }
   ],
   "source": [
    "import plotly.express as px\n",
    "fig = px.scatter(df, x ='Support', y='Confidence', color = 'Lift', color_continuous_scale ='agsunset')\n",
    "fig.show()"
   ]
  },
  {
   "cell_type": "code",
   "execution_count": null,
   "id": "1eddbdda",
   "metadata": {},
   "outputs": [],
   "source": []
  }
 ],
 "metadata": {
  "kernelspec": {
   "display_name": "Python 3 (ipykernel)",
   "language": "python",
   "name": "python3"
  },
  "language_info": {
   "codemirror_mode": {
    "name": "ipython",
    "version": 3
   },
   "file_extension": ".py",
   "mimetype": "text/x-python",
   "name": "python",
   "nbconvert_exporter": "python",
   "pygments_lexer": "ipython3",
   "version": "3.9.12"
  }
 },
 "nbformat": 4,
 "nbformat_minor": 5
}
